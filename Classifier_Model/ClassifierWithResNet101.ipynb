{
 "cells": [
  {
   "cell_type": "code",
   "execution_count": null,
   "metadata": {
    "collapsed": true
   },
   "outputs": [],
   "source": [
    "import pandas as pd\n",
    "import pickle\n",
    "import numpy as np\n",
    "from brainflow.board_shim import BoardShim, BrainFlowInputParams, LogLevels, BoardIds\n",
    "from brainflow.data_filter import DataFilter, FilterTypes\n",
    "import matplotlib\n",
    "import os\n",
    "import torch\n",
    "import pytorch_lightning as pl\n",
    "from torch.utils.data import Dataset\n",
    "from torchvision import models\n",
    "from pytorch_lightning.loggers import WandbLogger\n",
    "from torchmetrics.classification import BinaryF1Score\n",
    "from pytorch_lightning.callbacks import Callback\n",
    "import torchinfo\n",
    "import cv2\n",
    "from torch.utils.data import DataLoader\n",
    "import wandb\n",
    "\n",
    "matplotlib.use('Agg')\n",
    "import matplotlib.pyplot as plt\n",
    "from sklearn.preprocessing import StandardScaler\n",
    "%matplotlib inline\n",
    "\n",
    "scaler = StandardScaler()"
   ]
  },
  {
   "cell_type": "code",
   "execution_count": null,
   "outputs": [],
   "source": [
    "wandb.login()\n",
    "api_key = 'a45abb01f9556b57620ce77c8984452bee7a8772'\n",
    "board_id = 38\n",
    "sf = 256"
   ],
   "metadata": {
    "collapsed": false
   }
  },
  {
   "cell_type": "code",
   "execution_count": null,
   "outputs": [],
   "source": [
    "class PickleLatentDatasetLoader(Dataset):\n",
    "    def __init__(self, annotations_file, dir):\n",
    "        self.file_lists = pd.read_csv(annotations_file, header=None)\n",
    "        self.dir = dir\n",
    "\n",
    "    def __len__(self):\n",
    "        return len(self.file_lists)\n",
    "\n",
    "    def __getitem__(self, idx):\n",
    "        file_path = os.path.join(self.dir, self.file_lists.iloc[idx, 0].replace('/','\\\\'))\n",
    "        label = self.file_lists.iloc[idx, 1]\n",
    "\n",
    "        pkl_file = open(file_path, 'rb')\n",
    "        results = pickle.load(pkl_file)\n",
    "        results = np.array(results)\n",
    "        pkl_file.close()\n",
    "\n",
    "        results = torch.tensor(results)\n",
    "        label = torch.tensor(label).type(torch.FloatTensor)\n",
    "\n",
    "        return (results[0].squeeze(), results[1].squeeze(), label)"
   ],
   "metadata": {
    "collapsed": false
   }
  },
  {
   "cell_type": "code",
   "execution_count": null,
   "outputs": [],
   "source": [
    "pkl_dir = 'D:\\\\Nicko\\\\TUGAS_AKHIR\\\\Dataset_new\\\\Dataset_TA_pkl\\\\LATENT_32640_2CHANNEL\\\\'\n",
    "path_file = pkl_dir + 'path_and_label.csv'\n",
    "train_dir = pkl_dir + 'train_set.csv'\n",
    "valid_dir = pkl_dir + 'valid_set.csv'\n",
    "test_dir = pkl_dir + 'test_set.csv'"
   ],
   "metadata": {
    "collapsed": false
   }
  },
  {
   "cell_type": "code",
   "execution_count": null,
   "outputs": [],
   "source": [
    "datasets_train = PickleLatentDatasetLoader(\n",
    "    annotations_file=train_dir,\n",
    "    dir=pkl_dir\n",
    ")\n",
    "datasets_valid = PickleLatentDatasetLoader(\n",
    "    annotations_file=valid_dir,\n",
    "    dir=pkl_dir\n",
    ")\n",
    "datasets_test = PickleLatentDatasetLoader(\n",
    "    annotations_file=test_dir,\n",
    "    dir=pkl_dir\n",
    ")"
   ],
   "metadata": {
    "collapsed": false
   }
  },
  {
   "cell_type": "code",
   "execution_count": null,
   "outputs": [],
   "source": [
    "latent_loaded = datasets_train[0]"
   ],
   "metadata": {
    "collapsed": false
   }
  },
  {
   "cell_type": "code",
   "execution_count": null,
   "outputs": [],
   "source": [
    "latent_loaded[0].shape"
   ],
   "metadata": {
    "collapsed": false
   }
  },
  {
   "cell_type": "code",
   "execution_count": null,
   "outputs": [],
   "source": [
    "train_dataloader = DataLoader(datasets_train, batch_size=30, shuffle=True)\n",
    "validation_dataloader = DataLoader(datasets_valid, batch_size=15)\n",
    "test_dataloader = DataLoader(datasets_test, batch_size=15)"
   ],
   "metadata": {
    "collapsed": false
   }
  },
  {
   "cell_type": "code",
   "execution_count": null,
   "outputs": [],
   "source": [
    "class LitClassifierWithResnet101(pl.LightningModule):\n",
    "    def __init__(self, unfreeze_layer=None,learning_rate=1e-3):\n",
    "        super().__init__()\n",
    "\n",
    "        # log hyperparameters\n",
    "        self.save_hyperparameters()\n",
    "        self.learning_rate = learning_rate\n",
    "        self.loss_fn = torch.nn.BCEWithLogitsLoss()\n",
    "\n",
    "        # variable\n",
    "        self.predictions = np.array([])\n",
    "        self.targets = np.array([])\n",
    "        self.predictions_val = np.array([])\n",
    "        self.targets_val = np.array([])\n",
    "        self.predictions_test = np.array([])\n",
    "        self.targets_test = np.array([])\n",
    "        self.f1_fn = BinaryF1Score()\n",
    "        self.f1_train = 0\n",
    "        self.f1_val = 0\n",
    "        self.f1_test = 0\n",
    "\n",
    "        # backbone\n",
    "        self.weights = models.ResNet101_Weights.DEFAULT\n",
    "        self.backbone = models.resnet101(weights=self.weights)\n",
    "        self.unfreeze_layer = unfreeze_layer\n",
    "        # self.conv3dlayer = torch.nn.Conv3d(2, 1, kernel_size=(3,3,3), stride=(2, 2, 2), padding=(1, 1, 1), bias=False)\n",
    "        self._change_layer()\n",
    "\n",
    "    def _change_layer(self):\n",
    "        # UNFREEZE LAYER IF MEET NAME BELOW\n",
    "        name = self.unfreeze_layer\n",
    "        for param_name, param in self.backbone.named_parameters():\n",
    "            trainable = False\n",
    "            if name:\n",
    "                for train_name in name:\n",
    "                    if train_name in param_name:\n",
    "                        trainable = True\n",
    "                        break\n",
    "                param.requires_grad = trainable\n",
    "            else:\n",
    "                param.requires_grad = False\n",
    "\n",
    "        # change input layer\n",
    "        # self.backbone.conv1 = torch.nn.Conv2d(128, 64, kernel_size=(7, 7), stride=(2, 2), padding=(3, 3), bias=False)\n",
    "        self.backbone.conv1 = torch.nn.Conv2d(64, 64, kernel_size=(7, 7), stride=(2, 2), padding=(3, 3), bias=False)\n",
    "\n",
    "        # change last layer\n",
    "        self.backbone.fc = torch.nn.Sequential(\n",
    "            torch.nn.Dropout(p=0.8),\n",
    "            torch.nn.Linear(in_features=2048, out_features=1, bias=True)\n",
    "        )\n",
    "\n",
    "        # model summary\n",
    "        torchinfo.summary(model=self.backbone,\n",
    "                          # input_size=(10,128,10,51),\n",
    "                          input_size=(10,64,10,51),\n",
    "                          col_names=[\"input_size\", \"output_size\", \"num_params\", \"trainable\"],\n",
    "                          col_width=20,\n",
    "                          row_settings=[\"var_names\"]\n",
    "        )\n",
    "\n",
    "    def forward(self, x1, x2):\n",
    "         # x_combined = torch.cat([x1,x2], dim=1)\n",
    "         x_combined = torch.sub(x1, x2, alpha=1)\n",
    "         y_logits = self.backbone(x_combined)\n",
    "         y_pred = torch.round(torch.sigmoid(y_logits))\n",
    "         return y_pred\n",
    "\n",
    "    def training_step(self, batch, batch_idx):\n",
    "        x1, x2, y = batch\n",
    "        # x_combined = torch.cat([x1,x2], dim=1)\n",
    "        x_combined = torch.sub(x1, x2, alpha=1)\n",
    "        y_logits = self.backbone(x_combined)\n",
    "        y_logits = y_logits.squeeze()\n",
    "        loss = self.loss_fn(y_logits, y)\n",
    "        self.log(\"train_loss\", loss)\n",
    "        y_preds = torch.round(torch.sigmoid(y_logits.cpu())).detach().numpy()\n",
    "        self.predictions = np.append(self.predictions, y_preds, axis=0)\n",
    "        self.targets = np.append(self.targets, y.cpu(), axis=0)\n",
    "        return loss\n",
    "\n",
    "    def validation_step(self, val_batch, batch_idx):\n",
    "        x1, x2, y = val_batch\n",
    "        # x_combined = torch.cat([x1,x2], dim=1)\n",
    "        x_combined = torch.sub(x1, x2, alpha=1)\n",
    "        y_logits = self.backbone(x_combined)\n",
    "        y_logits = y_logits.squeeze()\n",
    "        val_loss = self.loss_fn(y_logits, y)\n",
    "        self.log(\"val_loss\", val_loss)\n",
    "        y_preds = torch.round(torch.sigmoid(y_logits.cpu())).detach().numpy()\n",
    "        self.predictions_val = np.append(self.predictions_val, y_preds, axis=0)\n",
    "        self.targets_val = np.append(self.targets_val, y.cpu(), axis=0)\n",
    "\n",
    "    def test_each_epoch(self):\n",
    "        self.predictions_test = np.array([])\n",
    "        self.targets_test = np.array([])\n",
    "        self.eval()\n",
    "        with torch.no_grad():\n",
    "            for x1,x2,y in test_dataloader:\n",
    "                # x_combined = torch.cat([x1,x2], dim=1)\n",
    "                x_combined = torch.sub(x1, x2, alpha=1)\n",
    "                x_combined = x_combined.to(\"cuda\")\n",
    "                y_logits = self.backbone(x_combined)\n",
    "                y_logits = y_logits.squeeze()\n",
    "                test_epoch_loss = self.loss_fn(y_logits, y.to(\"cuda\"))\n",
    "                y_preds = torch.round(torch.sigmoid(y_logits.cpu())).detach().numpy()\n",
    "                self.predictions_test = np.append(self.predictions_test, y_preds, axis=0)\n",
    "                self.targets_test = np.append(self.targets_test, y.cpu(), axis=0)\n",
    "            self.f1_test = self.f1_fn(torch.tensor(self.predictions_test.squeeze()), torch.tensor(self.targets_test.squeeze()))\n",
    "            self.log('F1_Score_test', self.f1_test)\n",
    "            self.log(\"test_epoch_loss\", test_epoch_loss)\n",
    "\n",
    "    def test_step(self, test_batch, batch_idx):\n",
    "        x1, x2, y = test_batch\n",
    "        # x_combined = torch.cat([x1,x2], dim=1)\n",
    "        x_combined = torch.sub(x1, x2, alpha=1)\n",
    "        y_logits = self.backbone(x_combined)\n",
    "        y_logits = y_logits.squeeze()\n",
    "        test_loss = self.loss_fn(y_logits, y)\n",
    "        self.log(\"test_loss\", test_loss)\n",
    "        y_preds = torch.round(torch.sigmoid(y_logits.cpu())).detach().numpy()\n",
    "\n",
    "    def configure_optimizers(self):\n",
    "        optimizer = torch.optim.SGD(self.parameters(), lr=self.learning_rate)\n",
    "        return optimizer"
   ],
   "metadata": {
    "collapsed": false
   }
  },
  {
   "cell_type": "code",
   "execution_count": null,
   "outputs": [],
   "source": [
    "class LoggingCallback(Callback):\n",
    "    def __init__(self):\n",
    "        super().__init__()\n",
    "        self.f1 = BinaryF1Score()\n",
    "        self.train_weight = 0.25\n",
    "        self.valid_weight = 0.25\n",
    "        self.test_weight = 0.5\n",
    "\n",
    "    def on_train_epoch_start(self, trainer: \"pl.Trainer\", pl_module: \"pl.LightningModule\") -> None:\n",
    "        pl_module.predictions = np.array([])\n",
    "        pl_module.targets = np.array([])\n",
    "\n",
    "    def on_train_epoch_end(self, trainer: \"pl.Trainer\", pl_module: \"pl.LightningModule\") -> None:\n",
    "        pl_module.f1_train = pl_module.f1_fn(torch.tensor(pl_module.predictions.squeeze()), torch.tensor(pl_module.targets.squeeze()))\n",
    "        pl_module.log('F1_Score_train', pl_module.f1_train)\n",
    "\n",
    "    def on_validation_epoch_start(self, trainer: \"pl.Trainer\", pl_module: \"pl.LightningModule\") -> None:\n",
    "        pl_module.predictions_val = np.array([])\n",
    "        pl_module.targets_val = np.array([])\n",
    "\n",
    "    def on_validation_epoch_end(self, trainer: \"pl.Trainer\", pl_module: \"pl.LightningModule\") -> None:\n",
    "        pl_module.f1_val = pl_module.f1_fn(torch.tensor(pl_module.predictions_val.squeeze()), torch.tensor(pl_module.targets_val.squeeze()))\n",
    "        pl_module.log('F1_Score_val', pl_module.f1_val)\n",
    "        pl_module.test_each_epoch()\n",
    "        # f1_avg = torch.sum(torch.tensor([pl_module.f1_train*self.train_weight,pl_module.f1_val*self.valid_weight,pl_module.f1_test*self.test_weight]))\n",
    "        f1_avg = torch.mean(torch.tensor([pl_module.f1_train,pl_module.f1_val,pl_module.f1_test]))\n",
    "        pl_module.log('F1_Score_avg', f1_avg)\n"
   ],
   "metadata": {
    "collapsed": false
   }
  },
  {
   "cell_type": "code",
   "execution_count": null,
   "outputs": [],
   "source": [
    "save_dir = 'D:\\\\Nicko\\\\TUGAS_AKHIR\\\\Classifier\\\\model_6\\\\'\n",
    "run_name = 'Run_31_layer1_2_train_dropout'"
   ],
   "metadata": {
    "collapsed": false
   }
  },
  {
   "cell_type": "code",
   "execution_count": null,
   "outputs": [],
   "source": [
    "checkpoint_callback = pl.callbacks.ModelCheckpoint(monitor=\"F1_Score_test\", mode=\"max\", dirpath=save_dir+\"classifier\\\\\"+run_name,\n",
    "    filename=\"classifier-{epoch:02d}-{F1_Score_test:.2f}\", save_top_k = 3)\n",
    "logging_callback = LoggingCallback()"
   ],
   "metadata": {
    "collapsed": false
   }
  },
  {
   "cell_type": "code",
   "execution_count": null,
   "outputs": [],
   "source": [
    "wandb_logger = WandbLogger(project='classifier_resnet101', name=run_name, save_dir=save_dir)"
   ],
   "metadata": {
    "collapsed": false
   }
  },
  {
   "cell_type": "code",
   "execution_count": null,
   "outputs": [],
   "source": [
    "pl.seed_everything(42, workers=True)\n",
    "classifier = LitClassifierWithResnet101(learning_rate=1e-4, unfreeze_layer=['layer1','layer2'])"
   ],
   "metadata": {
    "collapsed": false
   }
  },
  {
   "cell_type": "code",
   "execution_count": null,
   "outputs": [],
   "source": [
    "trainer = pl.Trainer(max_epochs=5000, devices=1, accelerator='gpu', log_every_n_steps=9, logger=wandb_logger, callbacks=[checkpoint_callback, logging_callback])\n",
    "trainer.fit(classifier, train_dataloader, validation_dataloader)\n",
    "wandb.finish()"
   ],
   "metadata": {
    "collapsed": false
   }
  },
  {
   "cell_type": "code",
   "execution_count": null,
   "outputs": [],
   "source": [
    "trainer.test(classifier, test_dataloader)"
   ],
   "metadata": {
    "collapsed": false
   }
  },
  {
   "cell_type": "markdown",
   "source": [
    "MODEL LOADING"
   ],
   "metadata": {
    "collapsed": false
   }
  },
  {
   "cell_type": "code",
   "execution_count": null,
   "outputs": [],
   "source": [
    "classifier_loaded = LitClassifierWithResnet101(unfreeze_layer=None).load_from_checkpoint('D:\\\\Nicko\\\\TUGAS_AKHIR\\\\Classifier\\\\model_6\\\\classifier\\\\Run_31_layer1_2_train_dropout\\\\classifier-epoch=520-F1_Score_test=0.62.ckpt')"
   ],
   "metadata": {
    "collapsed": false
   }
  },
  {
   "cell_type": "code",
   "execution_count": null,
   "outputs": [],
   "source": [
    "trainer = pl.Trainer(max_epochs=1000, devices=1, accelerator='gpu', log_every_n_steps=9)\n",
    "trainer.test(classifier_loaded, test_dataloader)"
   ],
   "metadata": {
    "collapsed": false
   }
  },
  {
   "cell_type": "code",
   "execution_count": null,
   "outputs": [],
   "source": [],
   "metadata": {
    "collapsed": false
   }
  },
  {
   "cell_type": "code",
   "execution_count": null,
   "outputs": [],
   "source": [],
   "metadata": {
    "collapsed": false
   }
  }
 ],
 "metadata": {
  "kernelspec": {
   "display_name": "Python 3",
   "language": "python",
   "name": "python3"
  },
  "language_info": {
   "codemirror_mode": {
    "name": "ipython",
    "version": 2
   },
   "file_extension": ".py",
   "mimetype": "text/x-python",
   "name": "python",
   "nbconvert_exporter": "python",
   "pygments_lexer": "ipython2",
   "version": "2.7.6"
  }
 },
 "nbformat": 4,
 "nbformat_minor": 0
}
