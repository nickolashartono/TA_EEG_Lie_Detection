{
 "cells": [
  {
   "cell_type": "code",
   "execution_count": 1,
   "metadata": {
    "collapsed": true
   },
   "outputs": [],
   "source": [
    "import pandas as pd\n",
    "import pickle\n",
    "import numpy as np\n",
    "from brainflow.board_shim import BoardShim, BrainFlowInputParams, LogLevels, BoardIds\n",
    "from brainflow.data_filter import DataFilter, FilterTypes\n",
    "import matplotlib\n",
    "import os\n",
    "import torch\n",
    "import pytorch_lightning as pl\n",
    "from torch.utils.data import Dataset\n",
    "from torchvision.transforms import ToTensor\n",
    "from pytorch_lightning.loggers import WandbLogger\n",
    "from torchmetrics.classification import BinaryF1Score, BinaryAccuracy\n",
    "from pytorch_lightning.callbacks import Callback\n",
    "from sklearn import metrics\n",
    "\n",
    "import cv2\n",
    "from torch.utils.data import DataLoader\n",
    "import wandb\n",
    "\n",
    "matplotlib.use('Agg')\n",
    "import matplotlib.pyplot as plt\n",
    "from sklearn.preprocessing import StandardScaler\n",
    "%matplotlib inline\n",
    "scaler = StandardScaler()"
   ]
  },
  {
   "cell_type": "code",
   "execution_count": 2,
   "outputs": [
    {
     "name": "stderr",
     "output_type": "stream",
     "text": [
      "\u001B[34m\u001B[1mwandb\u001B[0m: Currently logged in as: \u001B[33mnickhartono\u001B[0m. Use \u001B[1m`wandb login --relogin`\u001B[0m to force relogin\n"
     ]
    }
   ],
   "source": [
    "wandb.login()\n",
    "api_key = 'a45abb01f9556b57620ce77c8984452bee7a8772'\n",
    "board_id = 38\n",
    "eeg_names = ['TP9', 'Fp1', 'Fp2', 'TP10', 'AUX']\n",
    "sf = 256"
   ],
   "metadata": {
    "collapsed": false
   }
  },
  {
   "cell_type": "code",
   "execution_count": 3,
   "outputs": [],
   "source": [
    "class PickleLatentDatasetLoader(Dataset):\n",
    "    def __init__(self, annotations_file, dir):\n",
    "        self.file_lists = pd.read_csv(annotations_file, header=None)\n",
    "        self.dir = dir\n",
    "\n",
    "    def __len__(self):\n",
    "        return len(self.file_lists)\n",
    "\n",
    "    def __getitem__(self, idx):\n",
    "        file_path = os.path.join(self.dir, self.file_lists.iloc[idx, 0].replace('/','\\\\'))\n",
    "        label = self.file_lists.iloc[idx, 1]\n",
    "\n",
    "        pkl_file = open(file_path, 'rb')\n",
    "        results = pickle.load(pkl_file)\n",
    "        results = np.array(results)\n",
    "        pkl_file.close()\n",
    "\n",
    "        results = torch.tensor(results)\n",
    "        label = torch.tensor(label).type(torch.FloatTensor)\n",
    "\n",
    "        return (results[0], results[1], label)"
   ],
   "metadata": {
    "collapsed": false
   }
  },
  {
   "cell_type": "code",
   "execution_count": 4,
   "outputs": [],
   "source": [
    "pkl_dir = 'D:\\\\Nicko\\\\TUGAS_AKHIR\\\\Dataset_new_12\\\\Dataset_TA_pkl\\\\LATENT_32640_2CHANNEL\\\\'\n",
    "path_file = pkl_dir + 'path_and_label.csv'\n",
    "train_dir = pkl_dir + 'train_set.csv'\n",
    "valid_dir = pkl_dir + 'valid_set.csv'\n",
    "test_dir = pkl_dir + 'test_set.csv'"
   ],
   "metadata": {
    "collapsed": false
   }
  },
  {
   "cell_type": "code",
   "execution_count": 5,
   "outputs": [],
   "source": [
    "datasetsTrain = PickleLatentDatasetLoader(\n",
    "    annotations_file=train_dir,\n",
    "    dir=pkl_dir\n",
    ")\n",
    "datasetsValid = PickleLatentDatasetLoader(\n",
    "    annotations_file=valid_dir,\n",
    "    dir=pkl_dir\n",
    ")\n",
    "datasetsTest = PickleLatentDatasetLoader(\n",
    "    annotations_file=test_dir,\n",
    "    dir=pkl_dir\n",
    ")"
   ],
   "metadata": {
    "collapsed": false
   }
  },
  {
   "cell_type": "code",
   "execution_count": 6,
   "outputs": [],
   "source": [
    "# data loader\n",
    "train_dataloader = DataLoader(datasetsTrain, batch_size=50)\n",
    "validation_dataloader = DataLoader(datasetsValid, batch_size=50)\n",
    "test_dataloader = DataLoader(datasetsTest, batch_size=50)"
   ],
   "metadata": {
    "collapsed": false
   }
  },
  {
   "cell_type": "code",
   "execution_count": 7,
   "outputs": [],
   "source": [
    "#MODEL 2 (LSTM)\n",
    "class LitClassifierwithLSTM(pl.LightningModule):\n",
    "    def __init__(self, input_shape, learning_rate=1e-4):\n",
    "        super().__init__()\n",
    "\n",
    "        # log hyperparameters\n",
    "        self.save_hyperparameters()\n",
    "        self.learning_rate = learning_rate\n",
    "        self.loss_fn = torch.nn.BCEWithLogitsLoss()\n",
    "        self.hidden_state = 32\n",
    "        self.num_layers = 3\n",
    "\n",
    "        # variable\n",
    "        self.predictions = np.array([])\n",
    "        self.targets = np.array([])\n",
    "        self.predictions_val = np.array([])\n",
    "        self.targets_val = np.array([])\n",
    "        self.predictions_test = np.array([])\n",
    "        self.targets_test = np.array([])\n",
    "        self.f1_fn = BinaryF1Score()\n",
    "        self.acc_fn = BinaryAccuracy()\n",
    "        self.f1_train = 0\n",
    "        self.f1_val = 0\n",
    "        self.f1_test = 0\n",
    "        self.acc_train = 0\n",
    "        self.acc_val = 0\n",
    "        self.acc_test = 0\n",
    "\n",
    "        # Flatten\n",
    "        self.flatten_layer = torch.nn.Flatten(start_dim=1)\n",
    "\n",
    "        # LSTM\n",
    "        lstm_input_size = self._get_output_shape(input_shape)\n",
    "        self.lstm_layer = torch.nn.LSTM(input_size=lstm_input_size, hidden_size=self.hidden_state, num_layers=self.num_layers, dropout=0.2, batch_first=True, bidirectional=True)\n",
    "\n",
    "        # Fully Connected\n",
    "        n_sizes = self.hidden_state*2\n",
    "        self.fc_layer = torch.nn.Sequential(\n",
    "            torch.nn.Linear(n_sizes, 32),\n",
    "            torch.nn.Dropout(0.2),\n",
    "            torch.nn.Linear(32, 1)\n",
    "        )\n",
    "\n",
    "    def _get_output_shape(self, shape):\n",
    "        batch_size = 50\n",
    "        input = torch.autograd.Variable(torch.rand(batch_size, *shape))\n",
    "        n_size = input.data.view(batch_size, -1).size(1)\n",
    "        print(n_size*2)\n",
    "        return n_size*2\n",
    "\n",
    "    def forward(self, x1, x2):\n",
    "         x_combined = torch.stack([x1,x2], dim=0)\n",
    "         x_flat = self.flatten_layer(x_combined)\n",
    "         x_lstmed = self.lstm_layer(x_flat)\n",
    "         y_logits = self.fc_layer(x_lstmed)\n",
    "         y_pred = torch.round(torch.sigmoid(y_logits))\n",
    "         return y_pred\n",
    "\n",
    "    def training_step(self, batch, batch_idx):\n",
    "        x1, x2, y = batch\n",
    "        x_combined = torch.stack([x1,x2], dim=1)\n",
    "        x_flat = self.flatten_layer(x_combined)\n",
    "        x_lstmed,_ = self.lstm_layer(x_flat)\n",
    "        y_logits = self.fc_layer(x_lstmed)\n",
    "        y_logits = y_logits.squeeze()\n",
    "        loss = self.loss_fn(y_logits, y)\n",
    "        acc = self.acc_fn(y_logits, y)\n",
    "        self.log(\"train_loss\", loss)\n",
    "        self.log(\"train_acc\", acc)\n",
    "        y_preds = torch.round(torch.sigmoid(y_logits.cpu())).detach().numpy()\n",
    "        self.predictions = np.append(self.predictions, y_preds, axis=0)\n",
    "        self.targets = np.append(self.targets, y.cpu(), axis=0)\n",
    "        return {\"loss\": loss, \"acc\": acc}\n",
    "\n",
    "    def validation_step(self, val_batch, batch_idx):\n",
    "        x1, x2, y = val_batch\n",
    "        x_combined = torch.stack([x1,x2], dim=1)\n",
    "        x_flat = self.flatten_layer(x_combined)\n",
    "        x_lstmed,_ = self.lstm_layer(x_flat)\n",
    "        y_logits = self.fc_layer(x_lstmed)\n",
    "        y_logits = y_logits.squeeze()\n",
    "        val_loss = self.loss_fn(y_logits, y)\n",
    "        val_acc = self.acc_fn(y_logits, y)\n",
    "        self.log(\"val_loss\", val_loss)\n",
    "        self.log(\"val_acc\", val_acc)\n",
    "        y_preds = torch.round(torch.sigmoid(y_logits.cpu())).detach().numpy()\n",
    "        self.predictions_val = np.append(self.predictions_val, y_preds, axis=0)\n",
    "        self.targets_val = np.append(self.targets_val, y.cpu(), axis=0)\n",
    "        return {\"val_loss\": val_loss, \"val_acc\": val_acc}\n",
    "\n",
    "    def test_step(self, test_batch, batch_idx):\n",
    "        x1, x2, y = test_batch\n",
    "        x_combined = torch.stack([x1,x2], dim=1)\n",
    "        x_flat = self.flatten_layer(x_combined)\n",
    "        x_lstmed,_ = self.lstm_layer(x_flat)\n",
    "        y_logits = self.fc_layer(x_lstmed)\n",
    "        y_logits = y_logits.squeeze()\n",
    "        test_loss = self.loss_fn(y_logits, y)\n",
    "        test_acc = self.acc_fn(y_logits, y)\n",
    "        self.log(\"test_loss\", test_loss)\n",
    "        self.log(\"test_acc\", test_acc)\n",
    "        y_preds = torch.round(torch.sigmoid(y_logits.cpu())).detach().numpy()\n",
    "        conf_matrix = metrics.confusion_matrix(y.cpu(), y_preds)\n",
    "        conf_matrix = np.flip(conf_matrix).T\n",
    "        legend = ['Lie','Truth']\n",
    "        legend2 = [['(TP)','(FP)'],['(FN)','(TN)']]\n",
    "        fig, ax = plt.subplots(figsize=(5, 5))\n",
    "        ax.matshow(conf_matrix, cmap=plt.cm.Blues, alpha=0.3)\n",
    "        ax.set_xticklabels([''] + legend)\n",
    "        ax.set_yticklabels([''] + legend)\n",
    "        for i in range(conf_matrix.shape[0]):\n",
    "            for j in range(conf_matrix.shape[1]):\n",
    "                ax.text(x=j, y=i, s=(str(conf_matrix[i, j]) + ' ' + legend2[i][j]), va='center', ha='center', size='xx-large')\n",
    "\n",
    "        plt.ylabel('Predictions', fontsize=20)\n",
    "        plt.title('Actual', fontsize=20)\n",
    "        plt.xticks(fontsize=18)\n",
    "        plt.yticks(fontsize=18)\n",
    "        plt.tight_layout(pad=1)\n",
    "        y_preds = torch.round(torch.sigmoid(y_logits))\n",
    "        f1score = self.f1_fn(y_preds, y)\n",
    "        print('F1-score:', f1score)\n",
    "        plt.show()\n",
    "        return {\"test_loss\": test_loss, \"test_acc\": test_acc}\n",
    "\n",
    "    def configure_optimizers(self):\n",
    "        optimizer = torch.optim.SGD(self.parameters(), lr=self.learning_rate)\n",
    "        return optimizer"
   ],
   "metadata": {
    "collapsed": false
   }
  },
  {
   "cell_type": "code",
   "execution_count": null,
   "outputs": [],
   "source": [
    "classifierLSTM = LitClassifierwithLSTM(input_shape=(64,10,51))"
   ],
   "metadata": {
    "collapsed": false
   }
  },
  {
   "cell_type": "code",
   "execution_count": null,
   "outputs": [],
   "source": [
    "class LoggingCallback(Callback):\n",
    "    def __init__(self):\n",
    "        super().__init__()\n",
    "        self.f1 = BinaryF1Score()\n",
    "\n",
    "    def on_train_epoch_start(self, trainer: \"pl.Trainer\", pl_module: \"pl.LightningModule\") -> None:\n",
    "        pl_module.predictions = np.array([])\n",
    "        pl_module.targets = np.array([])\n",
    "\n",
    "    def on_train_epoch_end(self, trainer: \"pl.Trainer\", pl_module: \"pl.LightningModule\") -> None:\n",
    "        pl_module.f1_train = pl_module.f1_fn(torch.tensor(pl_module.predictions.squeeze()), torch.tensor(pl_module.targets.squeeze()))\n",
    "        pl_module.log('F1_Score', pl_module.f1_train)\n",
    "\n",
    "    def on_validation_epoch_start(self, trainer: \"pl.Trainer\", pl_module: \"pl.LightningModule\") -> None:\n",
    "        pl_module.predictions_val = np.array([])\n",
    "        pl_module.targets_val = np.array([])\n",
    "\n",
    "    def on_validation_epoch_end(self, trainer: \"pl.Trainer\", pl_module: \"pl.LightningModule\") -> None:\n",
    "        pl_module.f1_val = pl_module.f1_fn(torch.tensor(pl_module.predictions_val.squeeze()), torch.tensor(pl_module.targets_val.squeeze()))\n",
    "        pl_module.log('F1_Score_val', pl_module.f1_val)"
   ],
   "metadata": {
    "collapsed": false
   }
  },
  {
   "cell_type": "code",
   "execution_count": null,
   "outputs": [],
   "source": [
    "checkpoint_callback = pl.callbacks.ModelCheckpoint(\n",
    "    monitor=\"F1_Score_val\",\n",
    "    mode=\"max\",\n",
    "    dirpath=\"E:\\\\Nicko\\\\TUGAS_AKHIR\\\\ClasifierLSTMFc\\\\runs\\\\run_1\",\n",
    "    filename=\"classifier-{epoch:02d}-{F1_Score_val:.2f}\",\n",
    "    save_top_k=5,\n",
    "    save_last=True\n",
    ")\n",
    "logging_callback = LoggingCallback()"
   ],
   "metadata": {
    "collapsed": false
   }
  },
  {
   "cell_type": "code",
   "execution_count": null,
   "outputs": [],
   "source": [
    "wandb_logger = WandbLogger(project='classifier_lstm_fc', name='run_1', save_dir='E:\\\\Nicko\\\\TUGAS_AKHIR\\\\ClasifierLSTMFc\\\\runs')"
   ],
   "metadata": {
    "collapsed": false
   }
  },
  {
   "cell_type": "code",
   "execution_count": null,
   "outputs": [],
   "source": [
    "trainer = pl.Trainer(max_epochs=5000, devices=1, accelerator='gpu', log_every_n_steps=3, logger=wandb_logger, callbacks=[checkpoint_callback, logging_callback])\n",
    "trainer.fit(classifierLSTM, train_dataloader, validation_dataloader)\n",
    "wandb.finish()"
   ],
   "metadata": {
    "collapsed": false
   }
  },
  {
   "cell_type": "code",
   "execution_count": 8,
   "outputs": [
    {
     "name": "stderr",
     "output_type": "stream",
     "text": [
      "GPU available: True (cuda), used: True\n",
      "TPU available: False, using: 0 TPU cores\n",
      "IPU available: False, using: 0 IPUs\n",
      "HPU available: False, using: 0 HPUs\n"
     ]
    },
    {
     "name": "stdout",
     "output_type": "stream",
     "text": [
      "65280\n",
      "65280\n"
     ]
    },
    {
     "name": "stderr",
     "output_type": "stream",
     "text": [
      "LOCAL_RANK: 0 - CUDA_VISIBLE_DEVICES: [0]\n",
      "D:\\Nicko\\TUGAS_AKHIR\\TA_env\\lib\\site-packages\\pytorch_lightning\\trainer\\connectors\\data_connector.py:224: PossibleUserWarning: The dataloader, test_dataloader 0, does not have many workers which may be a bottleneck. Consider increasing the value of the `num_workers` argument` (try 6 which is the number of cpus on this machine) in the `DataLoader` init to improve performance.\n",
      "  rank_zero_warn(\n"
     ]
    },
    {
     "data": {
      "text/plain": "Testing: 0it [00:00, ?it/s]",
      "application/vnd.jupyter.widget-view+json": {
       "version_major": 2,
       "version_minor": 0,
       "model_id": "22d96ac0d2734b8ba6cf9c5e93ba956c"
      }
     },
     "metadata": {},
     "output_type": "display_data"
    },
    {
     "name": "stdout",
     "output_type": "stream",
     "text": [
      "F1-score: tensor(0., device='cuda:0')\n"
     ]
    },
    {
     "name": "stderr",
     "output_type": "stream",
     "text": [
      "C:\\Users\\Nicko\\AppData\\Local\\Temp\\ipykernel_16244\\1488790590.py:109: UserWarning: FixedFormatter should only be used together with FixedLocator\n",
      "  ax.set_xticklabels([''] + legend)\n",
      "C:\\Users\\Nicko\\AppData\\Local\\Temp\\ipykernel_16244\\1488790590.py:110: UserWarning: FixedFormatter should only be used together with FixedLocator\n",
      "  ax.set_yticklabels([''] + legend)\n"
     ]
    },
    {
     "data": {
      "text/plain": "<Figure size 500x500 with 1 Axes>",
      "image/png": "[encoded data removed]"
     },
     "metadata": {},
     "output_type": "display_data"
    },
    {
     "name": "stdout",
     "output_type": "stream",
     "text": [
      "────────────────────────────────────────────────────────────────────────────────────────────────────────────────────────\r\n",
      "       Test metric             DataLoader 0\r\n",
      "────────────────────────────────────────────────────────────────────────────────────────────────────────────────────────\r\n",
      "        test_acc                    0.5\r\n",
      "        test_loss           0.6972235441207886\r\n",
      "────────────────────────────────────────────────────────────────────────────────────────────────────────────────────────\n"
     ]
    },
    {
     "data": {
      "text/plain": "[{'test_loss': 0.6972235441207886, 'test_acc': 0.5}]"
     },
     "execution_count": 8,
     "metadata": {},
     "output_type": "execute_result"
    }
   ],
   "source": [
    "trainer = pl.Trainer(max_epochs=5000, devices=1, accelerator='gpu', log_every_n_steps=3, logger=False)\n",
    "classifier_load = LitClassifierwithLSTM(input_shape=(64, 10, 51)).load_from_checkpoint(\n",
    "    checkpoint_path='E:\\\\Nicko\\\\TUGAS_AKHIR\\\\ClasifierLSTMFc\\\\runs\\\\run_1\\\\last.ckpt')\n",
    "trainer.test(classifier_load, test_dataloader)"
   ],
   "metadata": {
    "collapsed": false
   }
  },
  {
   "cell_type": "code",
   "execution_count": null,
   "outputs": [],
   "source": [],
   "metadata": {
    "collapsed": false
   }
  }
 ],
 "metadata": {
  "kernelspec": {
   "display_name": "Python 3",
   "language": "python",
   "name": "python3"
  },
  "language_info": {
   "codemirror_mode": {
    "name": "ipython",
    "version": 2
   },
   "file_extension": ".py",
   "mimetype": "text/x-python",
   "name": "python",
   "nbconvert_exporter": "python",
   "pygments_lexer": "ipython2",
   "version": "2.7.6"
  }
 },
 "nbformat": 4,
 "nbformat_minor": 0
}
