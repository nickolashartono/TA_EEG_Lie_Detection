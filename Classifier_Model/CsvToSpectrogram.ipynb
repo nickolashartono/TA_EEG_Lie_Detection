{
 "cells": [
  {
   "cell_type": "code",
   "execution_count": null,
   "metadata": {
    "collapsed": true
   },
   "outputs": [],
   "source": [
    "import pandas as pd\n",
    "import numpy as np\n",
    "from brainflow.board_shim import BoardShim, BrainFlowInputParams, LogLevels, BoardIds\n",
    "from brainflow.data_filter import DataFilter, FilterTypes\n",
    "import matplotlib\n",
    "import os\n",
    "import torch\n",
    "from torchvision.io import read_image\n",
    "from torch.utils.data import Dataset\n",
    "from torchvision.transforms import ToTensor\n",
    "from moviepy.video.io.bindings import mplfig_to_npimage\n",
    "import cv2\n",
    "from torch.utils.data import DataLoader\n",
    "from PIL import Image\n",
    "import time\n",
    "\n",
    "# matplotlib.use('Agg')\n",
    "import matplotlib.pyplot as plt\n",
    "from sklearn.preprocessing import StandardScaler\n",
    "from scipy import signal\n",
    "%matplotlib inline"
   ]
  },
  {
   "cell_type": "code",
   "execution_count": null,
   "outputs": [],
   "source": [
    "board_id = 38\n",
    "eeg_names = ['TP9', 'Fp1', 'Fp2', 'TP10', '_AUX']\n",
    "sf = 256"
   ],
   "metadata": {
    "collapsed": false
   }
  },
  {
   "cell_type": "code",
   "execution_count": null,
   "outputs": [],
   "source": [
    "scaler = StandardScaler()\n",
    "dataset_dir = 'D:\\\\Nicko\\\\TUGAS_AKHIR\\\\Dataset_new\\\\Dataset_TA\\\\'\n",
    "destination_dir = 'D:\\\\Nicko\\\\TUGAS_AKHIR\\\\Dataset_new\\\\Dataset_TA_img\\\\'\n",
    "file_list_dir = dataset_dir + 'csv_list.csv'"
   ],
   "metadata": {
    "collapsed": false
   }
  },
  {
   "cell_type": "code",
   "execution_count": null,
   "outputs": [],
   "source": [
    "file_lists = pd.read_csv(file_list_dir, header=None)"
   ],
   "metadata": {
    "collapsed": false
   }
  },
  {
   "cell_type": "code",
   "execution_count": null,
   "outputs": [],
   "source": [
    "for idx,csv_name in enumerate(file_lists[0]):\n",
    "  fig, axes = plt.subplots(1,5, figsize=(10.8,7.2))\n",
    "  plt.subplots_adjust(wspace=0, hspace=0)\n",
    "  for i in range(5):\n",
    "    axes[i].get_xaxis().set_visible(False)\n",
    "    axes[i].get_yaxis().set_visible(False)\n",
    "  start = time.time()\n",
    "  csv_name = csv_name.replace('/','\\\\')\n",
    "  print(idx, csv_name)\n",
    "  file_path = os.path.join(dataset_dir, csv_name)\n",
    "  img_destination = os.path.join(destination_dir, csv_name[:-4])\n",
    "  os.mkdir(img_destination)\n",
    "\n",
    "  #load csv\n",
    "  data = DataFilter.read_file(file_path)\n",
    "  eeg_channels = BoardShim.get_eeg_channels(board_id)\n",
    "  eeg_channels.append(5)\n",
    "  eeg_data = data[eeg_channels, :]\n",
    "  eeg_data = eeg_data/1000000\n",
    "\n",
    "  #bandpass filter 8-30hz\n",
    "  for i in range(5):\n",
    "    DataFilter.perform_bandpass(eeg_data[i], sf, 8, 30, 2,\n",
    "                              FilterTypes.BUTTERWORTH.value, 0)\n",
    "\n",
    "  #normalized\n",
    "  scaled = scaler.fit_transform(eeg_data)\n",
    "\n",
    "  #divide to 2 seconds\n",
    "  list_eeg_data = []\n",
    "  for i in range(5):\n",
    "    temp = []\n",
    "    for j in range(5):\n",
    "      temp.append(scaled[j][i*(sf*2):(i+1)*(sf*2)])\n",
    "    list_eeg_data.append(temp)\n",
    "\n",
    "  #build spectrogram (1 gambar = 1 channel)\n",
    "  win = 1 * sf\n",
    "\n",
    "  spectrograms = []\n",
    "  for i in range(5):\n",
    "    for j in range(5):\n",
    "      #j = tiap 2 detik, i = channelnya\n",
    "      f,t,Zxx = signal.stft(list_eeg_data[j][i], fs=sf, window='hann', nperseg=win)\n",
    "      axes[j].pcolormesh(t, f, np.abs(Zxx), shading='gouraud', cmap='gray')\n",
    "\n",
    "    numpy_fig = mplfig_to_npimage(fig)\n",
    "\n",
    "    x = 136\n",
    "    y = 98\n",
    "    w = 836\n",
    "    h = 532\n",
    "    reduced_dim = cv2.cvtColor(numpy_fig[y:y+h,x:x+w], cv2.COLOR_BGR2GRAY)\n",
    "    cropped_img = reduced_dim[352:,:]\n",
    "    filename = eeg_names[i] + '.png'\n",
    "    cv2.imwrite(img_destination+'\\\\'+filename, cropped_img)\n",
    "  plt.close()\n",
    "  end = time.time()\n",
    "  print('Elapsed Time : ', end - start)"
   ],
   "metadata": {
    "collapsed": false
   }
  },
  {
   "cell_type": "code",
   "execution_count": null,
   "outputs": [],
   "source": [],
   "metadata": {
    "collapsed": false
   }
  }
 ],
 "metadata": {
  "kernelspec": {
   "display_name": "Python 3",
   "language": "python",
   "name": "python3"
  },
  "language_info": {
   "codemirror_mode": {
    "name": "ipython",
    "version": 2
   },
   "file_extension": ".py",
   "mimetype": "text/x-python",
   "name": "python",
   "nbconvert_exporter": "python",
   "pygments_lexer": "ipython2",
   "version": "2.7.6"
  }
 },
 "nbformat": 4,
 "nbformat_minor": 0
}
