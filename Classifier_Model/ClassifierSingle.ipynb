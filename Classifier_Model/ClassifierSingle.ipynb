{
 "cells": [
  {
   "cell_type": "code",
   "execution_count": null,
   "metadata": {
    "collapsed": true
   },
   "outputs": [],
   "source": [
    "import pandas as pd\n",
    "import pickle\n",
    "import numpy as np\n",
    "from brainflow.board_shim import BoardShim, BrainFlowInputParams, LogLevels, BoardIds\n",
    "from brainflow.data_filter import DataFilter, FilterTypes\n",
    "import matplotlib\n",
    "import os\n",
    "import torch\n",
    "import pytorch_lightning as pl\n",
    "from torch.utils.data import Dataset\n",
    "from torchvision.transforms import ToTensor\n",
    "from pytorch_lightning.loggers import WandbLogger\n",
    "\n",
    "import cv2\n",
    "from torch.utils.data import DataLoader\n",
    "import wandb\n",
    "\n",
    "matplotlib.use('Agg')\n",
    "import matplotlib.pyplot as plt\n",
    "from sklearn.preprocessing import StandardScaler\n",
    "%matplotlib inline\n",
    "scaler = StandardScaler()"
   ]
  },
  {
   "cell_type": "code",
   "execution_count": null,
   "outputs": [],
   "source": [
    "wandb.login()\n",
    "api_key = 'a45abb01f9556b57620ce77c8984452bee7a8772'\n",
    "board_id = 38\n",
    "eeg_names = ['TP9', 'Fp1', 'Fp2', 'TP10', 'AUX']\n",
    "sf = 256"
   ],
   "metadata": {
    "collapsed": false
   }
  },
  {
   "cell_type": "code",
   "execution_count": null,
   "outputs": [],
   "source": [
    "class PickleLatentDatasetLoader(Dataset):\n",
    "    def __init__(self, annotations_file, dir):\n",
    "        self.file_lists = pd.read_csv(annotations_file, header=None)\n",
    "        self.dir = dir\n",
    "\n",
    "    def __len__(self):\n",
    "        return len(self.file_lists)\n",
    "\n",
    "    def __getitem__(self, idx):\n",
    "        file_path = os.path.join(self.dir, self.file_lists.iloc[idx, 0].replace('/','\\\\'))\n",
    "        label = self.file_lists.iloc[idx, 1]\n",
    "\n",
    "        pkl_file = open(file_path, 'rb')\n",
    "        results = pickle.load(pkl_file)\n",
    "        results = np.array(results)\n",
    "        pkl_file.close()\n",
    "\n",
    "        results = torch.tensor(results)\n",
    "        label = torch.tensor(label).type(torch.FloatTensor)\n",
    "\n",
    "        return (results, label)"
   ],
   "metadata": {
    "collapsed": false
   }
  },
  {
   "cell_type": "code",
   "execution_count": null,
   "outputs": [],
   "source": [
    "pkl_dir = 'D:\\\\Nicko\\\\TUGAS_AKHIR\\\\Dataset\\\\Dataset_TA_pkl\\\\LATENT_32640_SINGLE\\\\'\n",
    "path_file = pkl_dir + 'path_and_label.csv'"
   ],
   "metadata": {
    "collapsed": false
   }
  },
  {
   "cell_type": "code",
   "execution_count": null,
   "outputs": [],
   "source": [
    "datasets = PickleLatentDatasetLoader(\n",
    "    annotations_file=path_file,\n",
    "    dir=pkl_dir\n",
    ")"
   ],
   "metadata": {
    "collapsed": false
   }
  },
  {
   "cell_type": "code",
   "execution_count": null,
   "outputs": [],
   "source": [
    "latent_loaded = datasets[0]"
   ],
   "metadata": {
    "collapsed": false
   }
  },
  {
   "cell_type": "code",
   "execution_count": null,
   "outputs": [],
   "source": [
    "latent_loaded[0].shape"
   ],
   "metadata": {
    "collapsed": false
   }
  },
  {
   "cell_type": "code",
   "execution_count": null,
   "outputs": [],
   "source": [
    "# split train to train and validation\n",
    "# use 20% of training data for validation\n",
    "train_set_size = int(len(datasets) * 0.7)\n",
    "valid_set_size = int(len(datasets) * 0.2)\n",
    "test_set_size = len(datasets) - train_set_size - valid_set_size\n",
    "\n",
    "# split the train set into two\n",
    "seed = torch.Generator().manual_seed(42)\n",
    "train_set, valid_set, test_set = torch.utils.data.random_split(datasets, [train_set_size, valid_set_size, test_set_size], generator=seed)\n",
    "\n",
    "# data loader\n",
    "train_dataloader = DataLoader(train_set, batch_size=10, shuffle=True)\n",
    "validation_dataloader = DataLoader(valid_set, batch_size=10)\n",
    "test_dataloader = DataLoader(test_set, batch_size=10)"
   ],
   "metadata": {
    "collapsed": false
   }
  },
  {
   "cell_type": "code",
   "execution_count": null,
   "outputs": [],
   "source": [
    "#MODEL 1 (Flatten and FC only)\n",
    "class LitClassifier(pl.LightningModule):\n",
    "    def __init__(self, input_shape, learning_rate=1e-4):\n",
    "        super().__init__()\n",
    "\n",
    "        # log hyperparameters\n",
    "        self.save_hyperparameters()\n",
    "        self.learning_rate = learning_rate\n",
    "        self.loss_fn = torch.nn.BCEWithLogitsLoss()\n",
    "\n",
    "        # Convolutional\n",
    "        self.conv_layer = torch.nn.Sequential(\n",
    "            # torch.nn.Conv2d(64, 128, 3, stride=1, padding=0),\n",
    "            # torch.nn.ReLU(True),\n",
    "            # torch.nn.Conv2d(32, 64, 3, stride=1, padding=0),\n",
    "            # torch.nn.ReLU(True),\n",
    "            # torch.nn.Conv2d(64, 64, 3, stride=1, padding=0),\n",
    "            # torch.nn.ReLU(True)\n",
    "        )\n",
    "\n",
    "        # Flatten\n",
    "        self.flatten_layer = torch.nn.Flatten(start_dim=1)\n",
    "\n",
    "        # Fully Connected\n",
    "        n_sizes = self._get_output_shape(input_shape)\n",
    "        self.fc_layer = torch.nn.Sequential(\n",
    "            torch.nn.Linear(n_sizes, 5120),\n",
    "            torch.nn.ReLU(True),\n",
    "            torch.nn.Linear(5120, 1280),\n",
    "            torch.nn.ReLU(True),\n",
    "            torch.nn.Linear(1280, 512),\n",
    "            torch.nn.Dropout(0.2),\n",
    "            torch.nn.Linear(512, 1)\n",
    "        )\n",
    "\n",
    "    def _get_output_shape(self, shape):\n",
    "        batch_size = 50\n",
    "        input = torch.autograd.Variable(torch.rand(batch_size, *shape))\n",
    "        output_feat = self.conv_layer(input)\n",
    "        n_size = output_feat.data.view(batch_size, -1).size(1)\n",
    "        return n_size\n",
    "\n",
    "    def forward(self, x):\n",
    "         x = self.conv_layer(x)\n",
    "         x_flat = self.flatten_layer(x)\n",
    "         y_logits = self.fc_layer(x_flat)\n",
    "         y_pred = torch.round(torch.sigmoid(y_logits))\n",
    "         return y_pred\n",
    "\n",
    "    def training_step(self, batch, batch_idx):\n",
    "        x, y = batch\n",
    "        x = self.conv_layer(x)\n",
    "        x_flat = self.flatten_layer(x)\n",
    "        y_logits = self.fc_layer(x_flat)\n",
    "        y_logits = y_logits.squeeze()\n",
    "        loss = self.loss_fn(y_logits, y)\n",
    "        self.log(\"train_loss\", loss, on_epoch=True)\n",
    "        return loss\n",
    "\n",
    "    def validation_step(self, val_batch, batch_idx):\n",
    "        x, y = val_batch\n",
    "        x = self.conv_layer(x)\n",
    "        x_flat = self.flatten_layer(x)\n",
    "        y_logits = self.fc_layer(x_flat)\n",
    "        y_logits = y_logits.squeeze()\n",
    "        val_loss = self.loss_fn(y_logits, y)\n",
    "        self.log(\"val_loss\", val_loss, on_epoch=True)\n",
    "\n",
    "    def test_step(self, test_batch, batch_idx):\n",
    "        x, y = test_batch\n",
    "        x = self.conv_layer(x)\n",
    "        x_flat = self.flatten_layer(x)\n",
    "        y_logits = self.fc_layer(x_flat)\n",
    "        y_logits = y_logits.squeeze()\n",
    "        test_loss = self.loss_fn(y_logits, y)\n",
    "        self.log(\"test_loss\", test_loss)\n",
    "\n",
    "    def configure_optimizers(self):\n",
    "        optimizer = torch.optim.SGD(self.parameters(), lr=self.learning_rate)\n",
    "        return optimizer"
   ],
   "metadata": {
    "collapsed": false
   }
  },
  {
   "cell_type": "code",
   "execution_count": null,
   "outputs": [],
   "source": [
    "classifier = LitClassifier(input_shape=(64,10,51))"
   ],
   "metadata": {
    "collapsed": false
   }
  },
  {
   "cell_type": "code",
   "execution_count": null,
   "outputs": [],
   "source": [
    "checkpoint_callback = pl.callbacks.ModelCheckpoint(monitor=\"val_loss\", dirpath=\"D:\\\\Nicko\\\\TUGAS_AKHIR\\\\Classifier\\\\model_3\\\\classifier\\\\run_1\",\n",
    "    filename=\"classifier-{epoch:02d}-{val_loss:.2f}\",)"
   ],
   "metadata": {
    "collapsed": false
   }
  },
  {
   "cell_type": "code",
   "execution_count": null,
   "outputs": [],
   "source": [
    "wandb_logger = WandbLogger(project='classifier', save_dir='D:\\\\Nicko\\\\TUGAS_AKHIR\\\\Classifier\\\\model_3')"
   ],
   "metadata": {
    "collapsed": false
   }
  },
  {
   "cell_type": "code",
   "execution_count": null,
   "outputs": [],
   "source": [
    "trainer = pl.Trainer(max_epochs=1000, devices=1, accelerator='gpu', log_every_n_steps=9, logger=wandb_logger, callbacks=[checkpoint_callback])\n",
    "trainer.fit(classifier, train_dataloader, validation_dataloader)\n",
    "# wandb.finish()"
   ],
   "metadata": {
    "collapsed": false
   }
  },
  {
   "cell_type": "code",
   "execution_count": null,
   "outputs": [],
   "source": [
    "trainer.test(classifier, test_dataloader)"
   ],
   "metadata": {
    "collapsed": false
   }
  }
 ],
 "metadata": {
  "kernelspec": {
   "display_name": "Python 3",
   "language": "python",
   "name": "python3"
  },
  "language_info": {
   "codemirror_mode": {
    "name": "ipython",
    "version": 2
   },
   "file_extension": ".py",
   "mimetype": "text/x-python",
   "name": "python",
   "nbconvert_exporter": "python",
   "pygments_lexer": "ipython2",
   "version": "2.7.6"
  }
 },
 "nbformat": 4,
 "nbformat_minor": 0
}
