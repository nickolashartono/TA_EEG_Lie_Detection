{
 "cells": [
  {
   "cell_type": "code",
   "execution_count": 1,
   "metadata": {
    "collapsed": true
   },
   "outputs": [],
   "source": [
    "import pandas as pd\n",
    "import pickle\n",
    "import numpy as np\n",
    "from brainflow.board_shim import BoardShim, BrainFlowInputParams, LogLevels, BoardIds\n",
    "from brainflow.data_filter import DataFilter, FilterTypes\n",
    "import matplotlib\n",
    "import os\n",
    "import torch\n",
    "import pytorch_lightning as pl\n",
    "from torch.utils.data import Dataset\n",
    "from torchvision import models\n",
    "from pytorch_lightning.loggers import WandbLogger\n",
    "from torchmetrics.classification import BinaryF1Score, BinaryAccuracy\n",
    "from pytorch_lightning.callbacks import Callback\n",
    "import torchinfo\n",
    "import cv2\n",
    "from torch.utils.data import DataLoader\n",
    "import wandb\n",
    "\n",
    "import matplotlib.pyplot as plt\n",
    "from sklearn.preprocessing import StandardScaler\n",
    "%matplotlib inline\n",
    "scaler = StandardScaler()"
   ]
  },
  {
   "cell_type": "code",
   "execution_count": 2,
   "outputs": [
    {
     "name": "stderr",
     "output_type": "stream",
     "text": [
      "\u001B[34m\u001B[1mwandb\u001B[0m: W&B API key is configured. Use \u001B[1m`wandb login --relogin`\u001B[0m to force relogin\n"
     ]
    }
   ],
   "source": [
    "wandb.login()\n",
    "api_key = 'a45abb01f9556b57620ce77c8984452bee7a8772'\n",
    "board_id = 38\n",
    "sf = 256"
   ],
   "metadata": {
    "collapsed": false
   }
  },
  {
   "cell_type": "code",
   "execution_count": 3,
   "outputs": [],
   "source": [
    "class PickleLatentDatasetLoader(Dataset):\n",
    "    def __init__(self, annotations_file, dir):\n",
    "        self.file_lists = pd.read_csv(annotations_file, header=None)\n",
    "        self.dir = dir\n",
    "\n",
    "    def __len__(self):\n",
    "        return len(self.file_lists)\n",
    "\n",
    "    def __getitem__(self, idx):\n",
    "        file_path = os.path.join(self.dir, self.file_lists.iloc[idx, 0].replace('/','\\\\'))\n",
    "        label = self.file_lists.iloc[idx, 1]\n",
    "\n",
    "        pkl_file = open(file_path, 'rb')\n",
    "        results = pickle.load(pkl_file)\n",
    "        results = np.array(results)\n",
    "        pkl_file.close()\n",
    "\n",
    "        results = torch.tensor(results)\n",
    "        label = torch.tensor(label).type(torch.FloatTensor)\n",
    "\n",
    "        return (results[0].squeeze(), results[1].squeeze(), label)"
   ],
   "metadata": {
    "collapsed": false
   }
  },
  {
   "cell_type": "code",
   "execution_count": 4,
   "outputs": [],
   "source": [
    "pkl_dir = 'D:\\\\Nicko\\\\TUGAS_AKHIR\\\\Dataset_new\\\\Dataset_TA_pkl\\\\LATENT_32640_2CHANNEL\\\\'\n",
    "path_file = pkl_dir + 'path_and_label.csv'\n",
    "train_dir = pkl_dir + 'train_set.csv'\n",
    "valid_dir = pkl_dir + 'valid_set.csv'\n",
    "test_dir = pkl_dir + 'test_set.csv'"
   ],
   "metadata": {
    "collapsed": false
   }
  },
  {
   "cell_type": "code",
   "execution_count": 5,
   "outputs": [],
   "source": [
    "datasets_train = PickleLatentDatasetLoader(\n",
    "    annotations_file=train_dir,\n",
    "    dir=pkl_dir\n",
    ")\n",
    "datasets_valid = PickleLatentDatasetLoader(\n",
    "    annotations_file=valid_dir,\n",
    "    dir=pkl_dir\n",
    ")\n",
    "datasets_test = PickleLatentDatasetLoader(\n",
    "    annotations_file=test_dir,\n",
    "    dir=pkl_dir\n",
    ")"
   ],
   "metadata": {
    "collapsed": false
   }
  },
  {
   "cell_type": "code",
   "execution_count": 6,
   "outputs": [],
   "source": [
    "latent_loaded = datasets_train[0]"
   ],
   "metadata": {
    "collapsed": false
   }
  },
  {
   "cell_type": "code",
   "execution_count": 7,
   "outputs": [
    {
     "data": {
      "text/plain": "torch.Size([64, 10, 51])"
     },
     "execution_count": 7,
     "metadata": {},
     "output_type": "execute_result"
    }
   ],
   "source": [
    "latent_loaded[0].shape"
   ],
   "metadata": {
    "collapsed": false
   }
  },
  {
   "cell_type": "code",
   "execution_count": 8,
   "outputs": [],
   "source": [
    "train_dataloader = DataLoader(datasets_train, batch_size=10)\n",
    "validation_dataloader = DataLoader(datasets_valid, batch_size=10)\n",
    "test_dataloader = DataLoader(datasets_test, batch_size=10)"
   ],
   "metadata": {
    "collapsed": false
   }
  },
  {
   "cell_type": "code",
   "execution_count": 11,
   "outputs": [],
   "source": [
    "class LitClassifierWithResnet50(pl.LightningModule):\n",
    "    def __init__(self, input_shape, unfreeze_layer=None,learning_rate=1e-3):\n",
    "        super().__init__()\n",
    "\n",
    "        # log hyperparameters\n",
    "        self.save_hyperparameters()\n",
    "        self.learning_rate = learning_rate\n",
    "        self.loss_fn = torch.nn.BCEWithLogitsLoss()\n",
    "\n",
    "        # variable\n",
    "        self.predictions = np.array([])\n",
    "        self.targets = np.array([])\n",
    "        self.predictions_val = np.array([])\n",
    "        self.targets_val = np.array([])\n",
    "        self.predictions_test = np.array([])\n",
    "        self.targets_test = np.array([])\n",
    "        self.f1_fn = BinaryF1Score()\n",
    "        self.acc_fn = BinaryAccuracy()\n",
    "        self.f1_train = 0\n",
    "        self.f1_val = 0\n",
    "        self.f1_test = 0\n",
    "\n",
    "        # Convolutional\n",
    "        self.weights = models.ResNet50_Weights.DEFAULT\n",
    "        self.backbone = models.resnet50(weights=self.weights)\n",
    "        self.unfreeze_layer = unfreeze_layer\n",
    "        self._change_layer()\n",
    "\n",
    "    def _change_layer(self):\n",
    "        # UNFREEZE LAYER IF MEET NAME BELOW\n",
    "        print(self.backbone.fc)\n",
    "        name = self.unfreeze_layer\n",
    "        for param_name, param in self.backbone.named_parameters():\n",
    "            trainable = False\n",
    "            if name:\n",
    "                for train_name in name:\n",
    "                    if train_name in param_name:\n",
    "                        trainable = True\n",
    "                        break\n",
    "                param.requires_grad = trainable\n",
    "            else:\n",
    "                param.requires_grad = False\n",
    "\n",
    "        # change input layer\n",
    "        self.backbone.conv1 = torch.nn.Conv2d(128, 64, kernel_size=(7, 7), stride=(2, 2), padding=(3, 3), bias=False)\n",
    "\n",
    "        # change last layer\n",
    "        self.backbone.fc = torch.nn.Linear(in_features=2048, out_features=1, bias=True)\n",
    "\n",
    "        # model summary\n",
    "        torchinfo.summary(model=self.backbone,\n",
    "                          input_size=(10,128,10,51),\n",
    "                          col_names=[\"input_size\", \"output_size\", \"num_params\", \"trainable\"],\n",
    "                          col_width=20,\n",
    "                          row_settings=[\"var_names\"]\n",
    "        )\n",
    "\n",
    "    def forward(self, x1, x2):\n",
    "         x_combined = torch.cat([x1,x2], dim=1)\n",
    "         y_logits = self.backbone(x_combined)\n",
    "         y_pred = torch.round(torch.sigmoid(y_logits))\n",
    "         return y_pred\n",
    "\n",
    "    def training_step(self, batch, batch_idx):\n",
    "        x1, x2, y = batch\n",
    "        x_combined = torch.cat([x1,x2], dim=1)\n",
    "        y_logits = self.backbone(x_combined)\n",
    "        y_logits = y_logits.squeeze()\n",
    "        loss = self.loss_fn(y_logits, y)\n",
    "        self.log(\"train_loss\", loss)\n",
    "        y_preds = torch.round(torch.sigmoid(y_logits.cpu())).detach().numpy()\n",
    "        self.predictions = np.append(self.predictions, y_preds, axis=0)\n",
    "        self.targets = np.append(self.targets, y.cpu(), axis=0)\n",
    "        return loss\n",
    "\n",
    "    def validation_step(self, val_batch, batch_idx):\n",
    "        x1, x2, y = val_batch\n",
    "        x_combined = torch.cat([x1,x2], dim=1)\n",
    "        y_logits = self.backbone(x_combined)\n",
    "        y_logits = y_logits.squeeze()\n",
    "        val_loss = self.loss_fn(y_logits, y)\n",
    "        self.log(\"val_loss\", val_loss)\n",
    "        y_preds = torch.round(torch.sigmoid(y_logits.cpu())).detach().numpy()\n",
    "        self.predictions_val = np.append(self.predictions_val, y_preds, axis=0)\n",
    "        self.targets_val = np.append(self.targets_val, y.cpu(), axis=0)\n",
    "\n",
    "    def test_each_epoch(self):\n",
    "        self.predictions_test = np.array([])\n",
    "        self.targets_test = np.array([])\n",
    "        self.eval()\n",
    "        with torch.no_grad():\n",
    "            for x1,x2,y in test_dataloader:\n",
    "                x_combined = torch.cat([x1,x2], dim=1)\n",
    "                x_combined = x_combined.to(\"cuda\")\n",
    "                y_logits = self.backbone(x_combined)\n",
    "                y_logits = y_logits.squeeze()\n",
    "                test_epoch_loss = self.loss_fn(y_logits, y.to(\"cuda\"))\n",
    "                y_preds = torch.round(torch.sigmoid(y_logits.cpu())).detach().numpy()\n",
    "                self.predictions_test = np.append(self.predictions_test, y_preds, axis=0)\n",
    "                self.targets_test = np.append(self.targets_test, y.cpu(), axis=0)\n",
    "            self.f1_test = self.f1_fn(torch.tensor(self.predictions_test), torch.tensor(self.targets_test))\n",
    "            self.log('F1_Score_test', self.f1_test)\n",
    "            self.log(\"test_epoch_loss\", test_epoch_loss)\n",
    "\n",
    "    def test_step(self, test_batch, batch_idx):\n",
    "        x1, x2, y = test_batch\n",
    "        x_combined = torch.cat([x1,x2], dim=1)\n",
    "        y_logits = self.backbone(x_combined)\n",
    "        y_logits = y_logits.squeeze()\n",
    "        test_loss = self.loss_fn(y_logits, y)\n",
    "        test_acc = self.acc_fn(y_logits, y)\n",
    "        self.log(\"test_loss\", test_loss)\n",
    "        y_preds = torch.round(torch.sigmoid(y_logits.cpu())).detach().numpy()\n",
    "        self.log(\"test_loss\", test_loss)\n",
    "        self.log(\"test_acc\", test_acc)\n",
    "        return {\"test_loss\": test_loss, \"test_acc\": test_acc}\n",
    "\n",
    "    def configure_optimizers(self):\n",
    "        optimizer = torch.optim.SGD(self.parameters(), lr=self.learning_rate)\n",
    "        return optimizer"
   ],
   "metadata": {
    "collapsed": false
   }
  },
  {
   "cell_type": "code",
   "execution_count": null,
   "outputs": [],
   "source": [
    "class LoggingCallback(Callback):\n",
    "    def __init__(self):\n",
    "        super().__init__()\n",
    "        self.f1 = BinaryF1Score()\n",
    "\n",
    "    def on_train_epoch_start(self, trainer: \"pl.Trainer\", pl_module: \"pl.LightningModule\") -> None:\n",
    "        pl_module.predictions = np.array([])\n",
    "        pl_module.targets = np.array([])\n",
    "\n",
    "    def on_train_epoch_end(self, trainer: \"pl.Trainer\", pl_module: \"pl.LightningModule\") -> None:\n",
    "        pl_module.f1_train = pl_module.f1_fn(torch.tensor(pl_module.predictions), torch.tensor(pl_module.targets))\n",
    "        pl_module.log('F1_Score_train', pl_module.f1_train)\n",
    "\n",
    "    def on_validation_epoch_start(self, trainer: \"pl.Trainer\", pl_module: \"pl.LightningModule\") -> None:\n",
    "        pl_module.predictions_val = np.array([])\n",
    "        pl_module.targets_val = np.array([])\n",
    "\n",
    "    def on_validation_epoch_end(self, trainer: \"pl.Trainer\", pl_module: \"pl.LightningModule\") -> None:\n",
    "        pl_module.f1_val = pl_module.f1_fn(torch.tensor(pl_module.predictions_val), torch.tensor(pl_module.targets_val))\n",
    "        pl_module.log('F1_Score_val', pl_module.f1_val)\n",
    "        pl_module.test_each_epoch()\n",
    "        f1_avg = torch.mean(torch.tensor([pl_module.f1_train,pl_module.f1_val,pl_module.f1_test]))\n",
    "        pl_module.log('F1_Score_avg', f1_avg)\n"
   ],
   "metadata": {
    "collapsed": false
   }
  },
  {
   "cell_type": "code",
   "execution_count": null,
   "outputs": [],
   "source": [
    "save_dir = 'D:\\\\Nicko\\\\TUGAS_AKHIR\\\\Classifier\\\\model_4\\\\'\n",
    "run_name = 'Run_9_allfreeze_new_data'"
   ],
   "metadata": {
    "collapsed": false
   }
  },
  {
   "cell_type": "code",
   "execution_count": null,
   "outputs": [],
   "source": [
    "checkpoint_callback = pl.callbacks.ModelCheckpoint(monitor=\"F1_Score_avg\", mode=\"max\", dirpath=save_dir+\"classifier\\\\\"+run_name,\n",
    "    filename=\"classifier-{epoch:02d}-{F1_Score_avg:.2f}\",)\n",
    "logging_callback = LoggingCallback()"
   ],
   "metadata": {
    "collapsed": false
   }
  },
  {
   "cell_type": "code",
   "execution_count": null,
   "outputs": [],
   "source": [
    "wandb_logger = WandbLogger(project='classifier_resnet50', name=run_name, save_dir=save_dir)"
   ],
   "metadata": {
    "collapsed": false
   }
  },
  {
   "cell_type": "code",
   "execution_count": 12,
   "outputs": [
    {
     "name": "stderr",
     "output_type": "stream",
     "text": [
      "Global seed set to 42\n"
     ]
    },
    {
     "name": "stdout",
     "output_type": "stream",
     "text": [
      "Linear(in_features=2048, out_features=1000, bias=True)\n"
     ]
    }
   ],
   "source": [
    "pl.seed_everything(42, workers=True)\n",
    "classifier = LitClassifierWithResnet50(input_shape=(128,10,51), learning_rate=1e-3, unfreeze_layer=None)"
   ],
   "metadata": {
    "collapsed": false
   }
  },
  {
   "cell_type": "code",
   "execution_count": null,
   "outputs": [],
   "source": [
    "trainer = pl.Trainer(max_epochs=10000, devices=1, accelerator='gpu', log_every_n_steps=9, logger=wandb_logger, callbacks=[checkpoint_callback, logging_callback])\n",
    "trainer.fit(classifier, train_dataloader, validation_dataloader)\n",
    "wandb.finish()"
   ],
   "metadata": {
    "collapsed": false
   }
  },
  {
   "cell_type": "code",
   "execution_count": null,
   "outputs": [],
   "source": [
    "trainer.test(classifier, test_dataloader)"
   ],
   "metadata": {
    "collapsed": false
   }
  },
  {
   "cell_type": "markdown",
   "source": [
    "MODEL LOADING"
   ],
   "metadata": {
    "collapsed": false
   }
  },
  {
   "cell_type": "code",
   "execution_count": 10,
   "outputs": [],
   "source": [
    "classifier_loaded = LitClassifierWithResnet50(input_shape=(128,10,51), unfreeze_layer=['layer4']).load_from_checkpoint('D:\\\\Nicko\\\\TUGAS_AKHIR\\\\Classifier\\\\model_4\\\\classifier\\\\run_8_layer4train\\\\classifier-epoch=4543-F1_Score_avg=0.84.ckpt')"
   ],
   "metadata": {
    "collapsed": false
   }
  },
  {
   "cell_type": "code",
   "execution_count": 13,
   "outputs": [
    {
     "name": "stderr",
     "output_type": "stream",
     "text": [
      "D:\\Nicko\\TUGAS_AKHIR\\TA_env\\lib\\site-packages\\pytorch_lightning\\trainer\\connectors\\data_connector.py:224: PossibleUserWarning: The dataloader, test_dataloader 0, does not have many workers which may be a bottleneck. Consider increasing the value of the `num_workers` argument` (try 6 which is the number of cpus on this machine) in the `DataLoader` init to improve performance.\n",
      "  rank_zero_warn(\n"
     ]
    },
    {
     "data": {
      "text/plain": "Testing: 0it [00:00, ?it/s]",
      "application/vnd.jupyter.widget-view+json": {
       "version_major": 2,
       "version_minor": 0,
       "model_id": "90a5430aed9d4421acbe043842656fb5"
      }
     },
     "metadata": {},
     "output_type": "display_data"
    },
    {
     "name": "stdout",
     "output_type": "stream",
     "text": [
      "────────────────────────────────────────────────────────────────────────────────────────────────────────────────────────\r\n",
      "       Test metric             DataLoader 0\r\n",
      "────────────────────────────────────────────────────────────────────────────────────────────────────────────────────────\r\n",
      "        test_acc            0.4444444477558136\r\n",
      "        test_loss           1.3812031745910645\r\n",
      "────────────────────────────────────────────────────────────────────────────────────────────────────────────────────────\n"
     ]
    },
    {
     "data": {
      "text/plain": "[{'test_loss': 1.3812031745910645, 'test_acc': 0.4444444477558136}]"
     },
     "execution_count": 12,
     "metadata": {},
     "output_type": "execute_result"
    },
    {
     "name": "stderr",
     "output_type": "stream",
     "text": [
      "GPU available: True (cuda), used: True\n",
      "TPU available: False, using: 0 TPU cores\n",
      "IPU available: False, using: 0 IPUs\n",
      "HPU available: False, using: 0 HPUs\n",
      "LOCAL_RANK: 0 - CUDA_VISIBLE_DEVICES: [0]\n"
     ]
    },
    {
     "data": {
      "text/plain": "Testing: 0it [00:00, ?it/s]",
      "application/vnd.jupyter.widget-view+json": {
       "version_major": 2,
       "version_minor": 0,
       "model_id": "673c80c656b44901b340b2a50eef304c"
      }
     },
     "metadata": {},
     "output_type": "display_data"
    },
    {
     "name": "stdout",
     "output_type": "stream",
     "text": [
      "────────────────────────────────────────────────────────────────────────────────────────────────────────────────────────\r\n",
      "       Test metric             DataLoader 0\r\n",
      "────────────────────────────────────────────────────────────────────────────────────────────────────────────────────────\r\n",
      "        test_acc            0.4444444477558136\r\n",
      "        test_loss           1.3812031745910645\r\n",
      "────────────────────────────────────────────────────────────────────────────────────────────────────────────────────────\n"
     ]
    },
    {
     "data": {
      "text/plain": "[{'test_loss': 1.3812031745910645, 'test_acc': 0.4444444477558136}]"
     },
     "execution_count": 13,
     "metadata": {},
     "output_type": "execute_result"
    }
   ],
   "source": [
    "trainer = pl.Trainer(max_epochs=50000, devices=1, accelerator='gpu', log_every_n_steps=9)\n",
    "trainer.test(classifier_loaded, test_dataloader)"
   ],
   "metadata": {
    "collapsed": false
   }
  },
  {
   "cell_type": "code",
   "execution_count": null,
   "outputs": [],
   "source": [],
   "metadata": {
    "collapsed": false
   }
  }
 ],
 "metadata": {
  "kernelspec": {
   "display_name": "Python 3",
   "language": "python",
   "name": "python3"
  },
  "language_info": {
   "codemirror_mode": {
    "name": "ipython",
    "version": 2
   },
   "file_extension": ".py",
   "mimetype": "text/x-python",
   "name": "python",
   "nbconvert_exporter": "python",
   "pygments_lexer": "ipython2",
   "version": "2.7.6"
  }
 },
 "nbformat": 4,
 "nbformat_minor": 0
}
