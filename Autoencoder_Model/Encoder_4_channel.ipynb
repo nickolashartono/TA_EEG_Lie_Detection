{
 "cells": [
  {
   "cell_type": "markdown",
   "metadata": {
    "id": "a8xdWZD_0P2_"
   },
   "source": [
    "# **INIT (RUN FIRST)**"
   ]
  },
  {
   "cell_type": "code",
   "execution_count": null,
   "metadata": {
    "id": "uN5Rgw_ZKYIU"
   },
   "outputs": [],
   "source": [
    "import pandas as pd\n",
    "import numpy as np\n",
    "from brainflow.board_shim import BoardShim, BrainFlowInputParams, LogLevels, BoardIds\n",
    "from brainflow.data_filter import DataFilter, FilterTypes\n",
    "import matplotlib\n",
    "import os\n",
    "import torch\n",
    "import pytorch_lightning as pl\n",
    "from torch.utils.data import Dataset\n",
    "from torchvision.transforms import ToTensor\n",
    "from pytorch_lightning.loggers import WandbLogger\n",
    "import torchinfo\n",
    "\n",
    "import cv2\n",
    "from torch.utils.data import DataLoader\n",
    "import wandb\n",
    "\n",
    "matplotlib.use('Agg')\n",
    "import matplotlib.pyplot as plt\n",
    "from sklearn.preprocessing import StandardScaler\n",
    "%matplotlib inline\n",
    "scaler = StandardScaler()"
   ]
  },
  {
   "cell_type": "code",
   "execution_count": null,
   "metadata": {
    "id": "b_merIWfOLa1"
   },
   "outputs": [],
   "source": [
    "wandb.login()\n",
    "api_key = 'a45abb01f9556b57620ce77c8984452bee7a8772'\n",
    "board_id = 38\n",
    "sf = 256"
   ]
  },
  {
   "cell_type": "markdown",
   "metadata": {
    "id": "w5AdfgRS8e4e"
   },
   "source": [
    "# **DATASET AND LOADER**"
   ]
  },
  {
   "cell_type": "code",
   "execution_count": null,
   "metadata": {
    "id": "g6lpQR06lzoq"
   },
   "outputs": [],
   "source": [
    "#INI DARI GAMBAR SPECTROGRAM\n",
    "class AutoencoderSpectrogramImage(Dataset):\n",
    "    def __init__(self, annotations_file, dir, transform=None):\n",
    "        self.file_lists = pd.read_csv(annotations_file, header=None)\n",
    "        self.dir = dir\n",
    "        self.transform = transform\n",
    "        self.eeg_names = ['TP9', 'Fp1', 'Fp2', 'TP10']\n",
    "\n",
    "    def __len__(self):\n",
    "        return len(self.file_lists)\n",
    "\n",
    "    def __getitem__(self, idx):\n",
    "        file_path = os.path.join(self.dir, self.file_lists.iloc[idx, 0].replace('/','\\\\'))\n",
    "        file_path = file_path[:-4] + '\\\\'\n",
    "        \n",
    "        spectrograms = []\n",
    "        for i in self.eeg_names:\n",
    "          temp = cv2.imread(file_path + i + '.png', cv2.IMREAD_GRAYSCALE)\n",
    "          spectrograms.append(temp)\n",
    "        spectrograms = np.array(spectrograms)\n",
    "\n",
    "        if self.transform:\n",
    "            spectrograms = self.transform(spectrograms)\n",
    "            spectrograms = spectrograms.permute(1,2,0)\n",
    "        return spectrograms"
   ]
  },
  {
   "cell_type": "code",
   "execution_count": null,
   "metadata": {
    "id": "-oTpov4r04NM"
   },
   "outputs": [],
   "source": [
    "# dataset_dir = 'D:\\\\Nicko\\\\TUGAS_AKHIR\\\\Dataset\\\\Dataset_TA\\\\'\n",
    "# spectrogram_dir = 'D:\\\\Nicko\\\\TUGAS_AKHIR\\\\Dataset\\\\Dataset_TA_img\\\\'\n",
    "dataset_dir = 'D:\\\\Nicko\\\\TUGAS_AKHIR\\\\Dataset_new_12\\\\Dataset_TA\\\\'\n",
    "spectrogram_dir = 'D:\\\\Nicko\\\\TUGAS_AKHIR\\\\Dataset_new_12\\\\Dataset_TA_img\\\\'\n",
    "training_file = dataset_dir + 'training_dir.csv'\n",
    "testing_file = dataset_dir + 'testing_dir.csv'"
   ]
  },
  {
   "cell_type": "code",
   "execution_count": null,
   "metadata": {
    "id": "9Vv9M16UR0iG"
   },
   "outputs": [],
   "source": [
    "#buat image\n",
    "datasetTrain = AutoencoderSpectrogramImage(\n",
    "    annotations_file=training_file,\n",
    "    dir=spectrogram_dir,\n",
    "    transform=ToTensor()\n",
    ")\n",
    "datasetTest = AutoencoderSpectrogramImage(\n",
    "    annotations_file=testing_file,\n",
    "    dir=spectrogram_dir,\n",
    "    transform=ToTensor()\n",
    ")"
   ]
  },
  {
   "cell_type": "code",
   "execution_count": null,
   "metadata": {
    "id": "2BfQcfNTja4x"
   },
   "outputs": [],
   "source": [
    "test = len(datasetTest)"
   ]
  },
  {
   "cell_type": "code",
   "execution_count": null,
   "outputs": [],
   "source": [
    "test"
   ],
   "metadata": {
    "collapsed": false
   }
  },
  {
   "cell_type": "code",
   "execution_count": null,
   "metadata": {
    "id": "NQqzUux6jH6q"
   },
   "outputs": [],
   "source": [
    "# split train to train and validation\n",
    "# use 20% of training data for validation\n",
    "train_set_size = int(len(datasetTrain) * 0.8)\n",
    "valid_set_size = len(datasetTrain) - train_set_size\n",
    "\n",
    "# split the train set into two\n",
    "seed = torch.Generator().manual_seed(42)\n",
    "train_set, valid_set = torch.utils.data.random_split(datasetTrain, [train_set_size, valid_set_size], generator=seed)\n",
    "\n",
    "# data loader\n",
    "train_dataloader = DataLoader(train_set, batch_size=25, shuffle=True)\n",
    "validation_dataloader = DataLoader(valid_set, batch_size=25)\n",
    "test_dataloader = DataLoader(datasetTest, batch_size=25)"
   ]
  },
  {
   "cell_type": "markdown",
   "metadata": {
    "id": "-pCUjauSKoL9"
   },
   "source": [
    "# **AUTOENCODER MODEL**"
   ]
  },
  {
   "cell_type": "code",
   "execution_count": null,
   "outputs": [],
   "source": [
    "#MODEL 5, 32640 param (64 x 10 x 51)\n",
    "class LitAutoEncoder5(pl.LightningModule):\n",
    "    def __init__(self):\n",
    "        super().__init__()\n",
    "        self.encoder = torch.nn.Sequential(\n",
    "            torch.nn.Conv2d(4, 8, 3, stride=2, padding=1),\n",
    "            torch.nn.BatchNorm2d(8),\n",
    "            torch.nn.ReLU(True),\n",
    "            torch.nn.Conv2d(8, 16, 3, stride=2, padding=1),\n",
    "            torch.nn.BatchNorm2d(16),\n",
    "            torch.nn.ReLU(True),\n",
    "            torch.nn.Conv2d(16, 32, 3, stride=2, padding=0),\n",
    "            torch.nn.ReLU(True),\n",
    "            torch.nn.Conv2d(32, 64, 3, stride=1, padding=0),\n",
    "            torch.nn.ReLU(True),\n",
    "            torch.nn.BatchNorm2d(64),\n",
    "            torch.nn.Conv2d(64, 64, 3, stride=2, padding=1),\n",
    "            torch.nn.ReLU(True),\n",
    "        )\n",
    "        self.decoder = torch.nn.Sequential(\n",
    "            torch.nn.ConvTranspose2d(64, 64, 3, stride=2,\n",
    "            padding=1, output_padding=1),\n",
    "            torch.nn.BatchNorm2d(64),\n",
    "            torch.nn.ReLU(True),\n",
    "            torch.nn.ConvTranspose2d(64, 32, 3, stride=1,\n",
    "            padding=0, output_padding=0),\n",
    "            torch.nn.ReLU(True),\n",
    "            torch.nn.ConvTranspose2d(32, 16, 3, stride=2,\n",
    "            padding=0, output_padding=0),\n",
    "            torch.nn.ReLU(True),\n",
    "            torch.nn.BatchNorm2d(16),\n",
    "            torch.nn.ConvTranspose2d(16, 8, 3, stride=2,\n",
    "            padding=1, output_padding=1),\n",
    "            torch.nn.BatchNorm2d(8),\n",
    "            torch.nn.ReLU(True),\n",
    "            torch.nn.ConvTranspose2d(8, 4, 3, stride=2,\n",
    "            padding=1, output_padding=1)\n",
    "        )\n",
    "\n",
    "    def forward(self, x):\n",
    "      embedding = self.encoder(x)\n",
    "      return embedding\n",
    "\n",
    "    def training_step(self, batch, batch_idx):\n",
    "        # training_step defines the train loop.\n",
    "        # it is independent of forward\n",
    "        x = batch\n",
    "        z = self.encoder(x)\n",
    "        x_hat = self.decoder(z)\n",
    "        loss = torch.nn.functional.mse_loss(x_hat, x)\n",
    "        # Logging to TensorBoard (if installed) by default\n",
    "        self.log(\"train_loss\", loss, logger=True, on_epoch=True)\n",
    "        return loss\n",
    "\n",
    "    def validation_step(self, val_batch, batch_idx):\n",
    "        x = val_batch\n",
    "        z = self.encoder(x)\n",
    "        x_hat = self.decoder(z)\n",
    "        val_loss = torch.nn.functional.mse_loss(x_hat, x)\n",
    "        self.log(\"val_loss\", val_loss, logger=True, on_epoch=True)\n",
    "\n",
    "    def test_step(self, batch, batch_idx):\n",
    "        # this is the test loop\n",
    "        x = batch\n",
    "        z = self.encoder(x)\n",
    "        x_hat = self.decoder(z)\n",
    "        test_loss = torch.nn.functional.mse_loss(x_hat, x)\n",
    "        self.log(\"test_loss\", test_loss, logger=True)\n",
    "\n",
    "    def configure_optimizers(self):\n",
    "        optimizer = torch.optim.Adam(self.parameters(), lr=1e-3)\n",
    "        return optimizer"
   ],
   "metadata": {
    "collapsed": false
   }
  },
  {
   "cell_type": "code",
   "execution_count": null,
   "metadata": {
    "colab": {
     "base_uri": "https://localhost:8080/"
    },
    "id": "z3OHZ8uVTHO0",
    "outputId": "60b0d5b8-c73b-4d51-cffc-e75f78b76707"
   },
   "outputs": [],
   "source": [
    "autoencoder = LitAutoEncoder5()\n",
    "autoencoder"
   ]
  },
  {
   "cell_type": "code",
   "execution_count": null,
   "outputs": [],
   "source": [
    "wandb_logger = WandbLogger(project='autoencoder', save_dir='D:\\\\Nicko\\\\TUGAS_AKHIR\\\\AutoEncoder\\\\model_6_4channel')"
   ],
   "metadata": {
    "collapsed": false
   }
  },
  {
   "cell_type": "code",
   "execution_count": null,
   "outputs": [],
   "source": [
    "checkpoint_callback = pl.callbacks.ModelCheckpoint(monitor=\"val_loss\", dirpath=\"D:\\\\Nicko\\\\TUGAS_AKHIR\\\\AutoEncoder\\\\model_6_4channel\\\\autoencoder\\\\run_1\",\n",
    "    filename=\"classifier-{epoch:02d}-{val_loss:.2f}\",)"
   ],
   "metadata": {
    "collapsed": false
   }
  },
  {
   "cell_type": "code",
   "execution_count": null,
   "metadata": {
    "colab": {
     "base_uri": "https://localhost:8080/",
     "height": 200
    },
    "id": "ZbHhCzmnQIip",
    "outputId": "37ac323c-8721-4e1a-be27-85ab4cebfbb4"
   },
   "outputs": [],
   "source": [
    "trainer = pl.Trainer(max_epochs=5000, devices=1, accelerator='gpu', log_every_n_steps=9, logger=wandb_logger, callbacks=[checkpoint_callback])\n",
    "trainer.fit(autoencoder, train_dataloader, validation_dataloader)"
   ]
  },
  {
   "cell_type": "code",
   "execution_count": null,
   "outputs": [],
   "source": [
    "autoencoder_load = LitAutoEncoder5().load_from_checkpoint('D:\\\\Nicko\\\\TUGAS_AKHIR\\\\Classifier\\\\model_latent_32640_2channel.ckpt')"
   ],
   "metadata": {
    "collapsed": false
   }
  },
  {
   "cell_type": "code",
   "execution_count": null,
   "metadata": {
    "colab": {
     "base_uri": "https://localhost:8080/",
     "height": 153,
     "referenced_widgets": [
      "eced4943117947f0a8b77095015c8d1b",
      "ded5751f20f1483699749718d3fad109",
      "ee4c99c9299948fcab2bb994dcf62b05",
      "79c872b27c334d14bf769916ecb41a70",
      "f4f4915d880f49dab7b08a346525d475",
      "e1c7909b88d04294aae81d060fa386f7",
      "490e37c706314bb69584749dc0f0d51a",
      "589965d92ec34bd1be3dcdb0fdd166e1",
      "756a8a66c62143c196c2eb8e9ebe3017",
      "863eeb87ee6540428202f55ec1731d7a",
      "161a543813a2426f92e44ec088d41791"
     ]
    },
    "id": "RBLiqTqDv5_L",
    "outputId": "7e74e400-bf85-4392-8001-5cfd87247506"
   },
   "outputs": [],
   "source": [
    "trainer = pl.Trainer(max_epochs=5000, devices=1, accelerator='gpu', log_every_n_steps=9, logger=False)\n",
    "trainer.test(autoencoder, test_dataloader)"
   ]
  },
  {
   "cell_type": "code",
   "execution_count": null,
   "metadata": {
    "id": "QrUIlO2KRzBi"
   },
   "outputs": [],
   "source": [
    "data_test = datasetTest[10]"
   ]
  },
  {
   "cell_type": "code",
   "execution_count": null,
   "metadata": {
    "id": "qYYImaKMRzBj"
   },
   "outputs": [],
   "source": [
    "data_test = data_test[None, :]"
   ]
  },
  {
   "cell_type": "code",
   "execution_count": null,
   "outputs": [],
   "source": [
    "data_test.shape"
   ],
   "metadata": {
    "collapsed": false
   }
  },
  {
   "cell_type": "code",
   "execution_count": null,
   "metadata": {
    "colab": {
     "base_uri": "https://localhost:8080/",
     "height": 197
    },
    "id": "_--EERDmRzBj",
    "outputId": "2797c012-5a9d-4b17-bc03-2670aa7a62d3"
   },
   "outputs": [],
   "source": [
    "data_squeezed = torch.squeeze(data_test)\n",
    "plt.imshow(data_squeezed[0].numpy(), cmap='gray_r')"
   ]
  },
  {
   "cell_type": "code",
   "execution_count": null,
   "metadata": {
    "colab": {
     "base_uri": "https://localhost:8080/"
    },
    "id": "ujmqz4i_RzBj",
    "outputId": "c57e0ba7-f9a9-44b5-9241-d191f1a21f8d"
   },
   "outputs": [],
   "source": [
    "autoencoder.eval()\n",
    "with torch.no_grad():\n",
    "    result = autoencoder(data_test)\n",
    "    decoded_result = autoencoder.decoder(result)\n",
    "    print(decoded_result.shape)"
   ]
  },
  {
   "cell_type": "code",
   "execution_count": null,
   "metadata": {
    "colab": {
     "base_uri": "https://localhost:8080/",
     "height": 197
    },
    "id": "dtzzJ8oFRzBk",
    "outputId": "6e6bbf72-06f2-40f4-808d-cd920add9538"
   },
   "outputs": [],
   "source": [
    "decoded_squeezed = torch.squeeze(decoded_result)\n",
    "plt.imshow(decoded_squeezed[0].detach().numpy(), cmap='gray_r')"
   ]
  },
  {
   "cell_type": "code",
   "execution_count": null,
   "outputs": [],
   "source": [],
   "metadata": {
    "collapsed": false
   }
  }
 ],
 "metadata": {
  "accelerator": "GPU",
  "colab": {
   "collapsed_sections": [
    "a8xdWZD_0P2_",
    "w5AdfgRS8e4e"
   ],
   "provenance": []
  },
  "gpuClass": "standard",
  "kernelspec": {
   "display_name": "Python 3",
   "name": "python3"
  },
  "language_info": {
   "name": "python"
  },
  "widgets": {
   "application/vnd.jupyter.widget-state+json": {
    "eced4943117947f0a8b77095015c8d1b": {
     "model_module": "@jupyter-widgets/controls",
     "model_name": "HBoxModel",
     "model_module_version": "1.5.0",
     "state": {
      "_dom_classes": [],
      "_model_module": "@jupyter-widgets/controls",
      "_model_module_version": "1.5.0",
      "_model_name": "HBoxModel",
      "_view_count": null,
      "_view_module": "@jupyter-widgets/controls",
      "_view_module_version": "1.5.0",
      "_view_name": "HBoxView",
      "box_style": "",
      "children": [
       "IPY_MODEL_ded5751f20f1483699749718d3fad109",
       "IPY_MODEL_ee4c99c9299948fcab2bb994dcf62b05",
       "IPY_MODEL_79c872b27c334d14bf769916ecb41a70"
      ],
      "layout": "IPY_MODEL_f4f4915d880f49dab7b08a346525d475"
     }
    },
    "ded5751f20f1483699749718d3fad109": {
     "model_module": "@jupyter-widgets/controls",
     "model_name": "HTMLModel",
     "model_module_version": "1.5.0",
     "state": {
      "_dom_classes": [],
      "_model_module": "@jupyter-widgets/controls",
      "_model_module_version": "1.5.0",
      "_model_name": "HTMLModel",
      "_view_count": null,
      "_view_module": "@jupyter-widgets/controls",
      "_view_module_version": "1.5.0",
      "_view_name": "HTMLView",
      "description": "",
      "description_tooltip": null,
      "layout": "IPY_MODEL_e1c7909b88d04294aae81d060fa386f7",
      "placeholder": "​",
      "style": "IPY_MODEL_490e37c706314bb69584749dc0f0d51a",
      "value": "Testing DataLoader 0: 100%"
     }
    },
    "ee4c99c9299948fcab2bb994dcf62b05": {
     "model_module": "@jupyter-widgets/controls",
     "model_name": "FloatProgressModel",
     "model_module_version": "1.5.0",
     "state": {
      "_dom_classes": [],
      "_model_module": "@jupyter-widgets/controls",
      "_model_module_version": "1.5.0",
      "_model_name": "FloatProgressModel",
      "_view_count": null,
      "_view_module": "@jupyter-widgets/controls",
      "_view_module_version": "1.5.0",
      "_view_name": "ProgressView",
      "bar_style": "success",
      "description": "",
      "description_tooltip": null,
      "layout": "IPY_MODEL_589965d92ec34bd1be3dcdb0fdd166e1",
      "max": 3,
      "min": 0,
      "orientation": "horizontal",
      "style": "IPY_MODEL_756a8a66c62143c196c2eb8e9ebe3017",
      "value": 3
     }
    },
    "79c872b27c334d14bf769916ecb41a70": {
     "model_module": "@jupyter-widgets/controls",
     "model_name": "HTMLModel",
     "model_module_version": "1.5.0",
     "state": {
      "_dom_classes": [],
      "_model_module": "@jupyter-widgets/controls",
      "_model_module_version": "1.5.0",
      "_model_name": "HTMLModel",
      "_view_count": null,
      "_view_module": "@jupyter-widgets/controls",
      "_view_module_version": "1.5.0",
      "_view_name": "HTMLView",
      "description": "",
      "description_tooltip": null,
      "layout": "IPY_MODEL_863eeb87ee6540428202f55ec1731d7a",
      "placeholder": "​",
      "style": "IPY_MODEL_161a543813a2426f92e44ec088d41791",
      "value": " 3/3 [00:05&lt;00:00,  1.94s/it]"
     }
    },
    "f4f4915d880f49dab7b08a346525d475": {
     "model_module": "@jupyter-widgets/base",
     "model_name": "LayoutModel",
     "model_module_version": "1.2.0",
     "state": {
      "_model_module": "@jupyter-widgets/base",
      "_model_module_version": "1.2.0",
      "_model_name": "LayoutModel",
      "_view_count": null,
      "_view_module": "@jupyter-widgets/base",
      "_view_module_version": "1.2.0",
      "_view_name": "LayoutView",
      "align_content": null,
      "align_items": null,
      "align_self": null,
      "border": null,
      "bottom": null,
      "display": "inline-flex",
      "flex": null,
      "flex_flow": "row wrap",
      "grid_area": null,
      "grid_auto_columns": null,
      "grid_auto_flow": null,
      "grid_auto_rows": null,
      "grid_column": null,
      "grid_gap": null,
      "grid_row": null,
      "grid_template_areas": null,
      "grid_template_columns": null,
      "grid_template_rows": null,
      "height": null,
      "justify_content": null,
      "justify_items": null,
      "left": null,
      "margin": null,
      "max_height": null,
      "max_width": null,
      "min_height": null,
      "min_width": null,
      "object_fit": null,
      "object_position": null,
      "order": null,
      "overflow": null,
      "overflow_x": null,
      "overflow_y": null,
      "padding": null,
      "right": null,
      "top": null,
      "visibility": null,
      "width": "100%"
     }
    },
    "e1c7909b88d04294aae81d060fa386f7": {
     "model_module": "@jupyter-widgets/base",
     "model_name": "LayoutModel",
     "model_module_version": "1.2.0",
     "state": {
      "_model_module": "@jupyter-widgets/base",
      "_model_module_version": "1.2.0",
      "_model_name": "LayoutModel",
      "_view_count": null,
      "_view_module": "@jupyter-widgets/base",
      "_view_module_version": "1.2.0",
      "_view_name": "LayoutView",
      "align_content": null,
      "align_items": null,
      "align_self": null,
      "border": null,
      "bottom": null,
      "display": null,
      "flex": null,
      "flex_flow": null,
      "grid_area": null,
      "grid_auto_columns": null,
      "grid_auto_flow": null,
      "grid_auto_rows": null,
      "grid_column": null,
      "grid_gap": null,
      "grid_row": null,
      "grid_template_areas": null,
      "grid_template_columns": null,
      "grid_template_rows": null,
      "height": null,
      "justify_content": null,
      "justify_items": null,
      "left": null,
      "margin": null,
      "max_height": null,
      "max_width": null,
      "min_height": null,
      "min_width": null,
      "object_fit": null,
      "object_position": null,
      "order": null,
      "overflow": null,
      "overflow_x": null,
      "overflow_y": null,
      "padding": null,
      "right": null,
      "top": null,
      "visibility": null,
      "width": null
     }
    },
    "490e37c706314bb69584749dc0f0d51a": {
     "model_module": "@jupyter-widgets/controls",
     "model_name": "DescriptionStyleModel",
     "model_module_version": "1.5.0",
     "state": {
      "_model_module": "@jupyter-widgets/controls",
      "_model_module_version": "1.5.0",
      "_model_name": "DescriptionStyleModel",
      "_view_count": null,
      "_view_module": "@jupyter-widgets/base",
      "_view_module_version": "1.2.0",
      "_view_name": "StyleView",
      "description_width": ""
     }
    },
    "589965d92ec34bd1be3dcdb0fdd166e1": {
     "model_module": "@jupyter-widgets/base",
     "model_name": "LayoutModel",
     "model_module_version": "1.2.0",
     "state": {
      "_model_module": "@jupyter-widgets/base",
      "_model_module_version": "1.2.0",
      "_model_name": "LayoutModel",
      "_view_count": null,
      "_view_module": "@jupyter-widgets/base",
      "_view_module_version": "1.2.0",
      "_view_name": "LayoutView",
      "align_content": null,
      "align_items": null,
      "align_self": null,
      "border": null,
      "bottom": null,
      "display": null,
      "flex": "2",
      "flex_flow": null,
      "grid_area": null,
      "grid_auto_columns": null,
      "grid_auto_flow": null,
      "grid_auto_rows": null,
      "grid_column": null,
      "grid_gap": null,
      "grid_row": null,
      "grid_template_areas": null,
      "grid_template_columns": null,
      "grid_template_rows": null,
      "height": null,
      "justify_content": null,
      "justify_items": null,
      "left": null,
      "margin": null,
      "max_height": null,
      "max_width": null,
      "min_height": null,
      "min_width": null,
      "object_fit": null,
      "object_position": null,
      "order": null,
      "overflow": null,
      "overflow_x": null,
      "overflow_y": null,
      "padding": null,
      "right": null,
      "top": null,
      "visibility": null,
      "width": null
     }
    },
    "756a8a66c62143c196c2eb8e9ebe3017": {
     "model_module": "@jupyter-widgets/controls",
     "model_name": "ProgressStyleModel",
     "model_module_version": "1.5.0",
     "state": {
      "_model_module": "@jupyter-widgets/controls",
      "_model_module_version": "1.5.0",
      "_model_name": "ProgressStyleModel",
      "_view_count": null,
      "_view_module": "@jupyter-widgets/base",
      "_view_module_version": "1.2.0",
      "_view_name": "StyleView",
      "bar_color": null,
      "description_width": ""
     }
    },
    "863eeb87ee6540428202f55ec1731d7a": {
     "model_module": "@jupyter-widgets/base",
     "model_name": "LayoutModel",
     "model_module_version": "1.2.0",
     "state": {
      "_model_module": "@jupyter-widgets/base",
      "_model_module_version": "1.2.0",
      "_model_name": "LayoutModel",
      "_view_count": null,
      "_view_module": "@jupyter-widgets/base",
      "_view_module_version": "1.2.0",
      "_view_name": "LayoutView",
      "align_content": null,
      "align_items": null,
      "align_self": null,
      "border": null,
      "bottom": null,
      "display": null,
      "flex": null,
      "flex_flow": null,
      "grid_area": null,
      "grid_auto_columns": null,
      "grid_auto_flow": null,
      "grid_auto_rows": null,
      "grid_column": null,
      "grid_gap": null,
      "grid_row": null,
      "grid_template_areas": null,
      "grid_template_columns": null,
      "grid_template_rows": null,
      "height": null,
      "justify_content": null,
      "justify_items": null,
      "left": null,
      "margin": null,
      "max_height": null,
      "max_width": null,
      "min_height": null,
      "min_width": null,
      "object_fit": null,
      "object_position": null,
      "order": null,
      "overflow": null,
      "overflow_x": null,
      "overflow_y": null,
      "padding": null,
      "right": null,
      "top": null,
      "visibility": null,
      "width": null
     }
    },
    "161a543813a2426f92e44ec088d41791": {
     "model_module": "@jupyter-widgets/controls",
     "model_name": "DescriptionStyleModel",
     "model_module_version": "1.5.0",
     "state": {
      "_model_module": "@jupyter-widgets/controls",
      "_model_module_version": "1.5.0",
      "_model_name": "DescriptionStyleModel",
      "_view_count": null,
      "_view_module": "@jupyter-widgets/base",
      "_view_module_version": "1.2.0",
      "_view_name": "StyleView",
      "description_width": ""
     }
    }
   }
  }
 },
 "nbformat": 4,
 "nbformat_minor": 0
}
